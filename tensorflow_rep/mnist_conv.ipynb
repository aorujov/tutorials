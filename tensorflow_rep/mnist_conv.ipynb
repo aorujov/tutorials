{
  "nbformat": 4,
  "nbformat_minor": 0,
  "metadata": {
    "colab": {
      "name": "mnist_conv.ipynb",
      "version": "0.3.2",
      "provenance": [],
      "collapsed_sections": []
    },
    "kernelspec": {
      "name": "python3",
      "display_name": "Python 3"
    },
    "accelerator": "GPU"
  },
  "cells": [
    {
      "metadata": {
        "id": "NvrhupRkmmhf",
        "colab_type": "text"
      },
      "cell_type": "markdown",
      "source": [
        "## Notebook Info\n",
        "\n",
        "* Dataset: MNIST\n",
        "* Network Type: CNN\n",
        "* Additions: CallBacks"
      ]
    },
    {
      "metadata": {
        "id": "d_WqKiw8mGdy",
        "colab_type": "code",
        "colab": {}
      },
      "cell_type": "code",
      "source": [
        "import tensorflow as tf\n",
        "\n",
        "class myCallback(tf.keras.callbacks.Callback):\n",
        "  def on_epoch_end(self, epoch, logs={}):\n",
        "    if(logs.get('acc')>0.998):\n",
        "      print(\"\\nReached 99.8% accuracy so cancelling training!\")\n",
        "      self.model.stop_training = True\n",
        "\n",
        "\n"
      ],
      "execution_count": 0,
      "outputs": []
    },
    {
      "metadata": {
        "id": "L0IxagGBmR7J",
        "colab_type": "code",
        "colab": {
          "base_uri": "https://localhost:8080/",
          "height": 50
        },
        "outputId": "9be3edc1-40d8-44cc-e4c1-577cfa0f0e49"
      },
      "cell_type": "code",
      "source": [
        "callbacks = myCallback()\n",
        "mnist = tf.keras.datasets.mnist\n",
        "(training_images, training_labels), (test_images, test_labels) = mnist.load_data()\n",
        "training_images=training_images.reshape(60000, 28, 28, 1)\n",
        "training_images=training_images / 255.0\n",
        "test_images = test_images.reshape(10000, 28, 28, 1)\n",
        "test_images=test_images/255.0\n"
      ],
      "execution_count": 2,
      "outputs": [
        {
          "output_type": "stream",
          "text": [
            "Downloading data from https://storage.googleapis.com/tensorflow/tf-keras-datasets/mnist.npz\n",
            "11493376/11490434 [==============================] - 0s 0us/step\n"
          ],
          "name": "stdout"
        }
      ]
    },
    {
      "metadata": {
        "id": "Bn85RSMYmZIe",
        "colab_type": "code",
        "colab": {
          "base_uri": "https://localhost:8080/",
          "height": 87
        },
        "outputId": "bc9fb5ae-de72-4185-c4e1-1a9f1c353129"
      },
      "cell_type": "code",
      "source": [
        "model = tf.keras.models.Sequential([\n",
        "  tf.keras.layers.Conv2D(32, (3,3), activation='relu', input_shape=(28, 28, 1)),\n",
        "  tf.keras.layers.MaxPooling2D(2, 2),\n",
        "  tf.keras.layers.Flatten(),\n",
        "  tf.keras.layers.Dense(128, activation='relu'),\n",
        "  tf.keras.layers.Dense(10, activation='softmax')\n",
        "])\n",
        "model.compile(optimizer='adam', loss='sparse_categorical_crossentropy', metrics=['accuracy'])\n"
      ],
      "execution_count": 3,
      "outputs": [
        {
          "output_type": "stream",
          "text": [
            "WARNING:tensorflow:From /usr/local/lib/python3.6/dist-packages/tensorflow/python/ops/resource_variable_ops.py:435: colocate_with (from tensorflow.python.framework.ops) is deprecated and will be removed in a future version.\n",
            "Instructions for updating:\n",
            "Colocations handled automatically by placer.\n"
          ],
          "name": "stdout"
        }
      ]
    },
    {
      "metadata": {
        "id": "SFDGuX5ImdYs",
        "colab_type": "code",
        "colab": {
          "base_uri": "https://localhost:8080/",
          "height": 336
        },
        "outputId": "5c4a4bc3-24c5-48e8-a728-09fc7c81ee2a"
      },
      "cell_type": "code",
      "source": [
        "model.fit(training_images, training_labels, epochs=10, callbacks=[callbacks])"
      ],
      "execution_count": 4,
      "outputs": [
        {
          "output_type": "stream",
          "text": [
            "Epoch 1/10\n",
            "60000/60000 [==============================] - 9s 146us/sample - loss: 0.1466 - acc: 0.9566\n",
            "Epoch 2/10\n",
            "60000/60000 [==============================] - 7s 110us/sample - loss: 0.0497 - acc: 0.9849\n",
            "Epoch 3/10\n",
            "60000/60000 [==============================] - 7s 109us/sample - loss: 0.0320 - acc: 0.9896\n",
            "Epoch 4/10\n",
            "60000/60000 [==============================] - 7s 109us/sample - loss: 0.0213 - acc: 0.9931\n",
            "Epoch 5/10\n",
            "60000/60000 [==============================] - 7s 109us/sample - loss: 0.0151 - acc: 0.9949\n",
            "Epoch 6/10\n",
            "60000/60000 [==============================] - 7s 109us/sample - loss: 0.0091 - acc: 0.9972\n",
            "Epoch 7/10\n",
            "60000/60000 [==============================] - 7s 113us/sample - loss: 0.0085 - acc: 0.9972\n",
            "Epoch 8/10\n",
            "59872/60000 [============================>.] - ETA: 0s - loss: 0.0059 - acc: 0.9981\n",
            "Reached 99.8% accuracy so cancelling training!\n",
            "60000/60000 [==============================] - 7s 124us/sample - loss: 0.0059 - acc: 0.9981\n"
          ],
          "name": "stdout"
        },
        {
          "output_type": "execute_result",
          "data": {
            "text/plain": [
              "<tensorflow.python.keras.callbacks.History at 0x7f7996e7e898>"
            ]
          },
          "metadata": {
            "tags": []
          },
          "execution_count": 4
        }
      ]
    },
    {
      "metadata": {
        "id": "uDQUhwbFmhH3",
        "colab_type": "code",
        "colab": {}
      },
      "cell_type": "code",
      "source": [
        ""
      ],
      "execution_count": 0,
      "outputs": []
    }
  ]
}