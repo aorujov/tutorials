{
 "cells": [
  {
   "cell_type": "markdown",
   "metadata": {},
   "source": [
    "# NN, k-NN\n",
    "\n",
    "Raw implementation"
   ]
  },
  {
   "cell_type": "code",
   "execution_count": 1,
   "metadata": {},
   "outputs": [],
   "source": [
    "import pandas as pd\n",
    "import numpy as np\n",
    "import random\n",
    "from matplotlib import pyplot as plt\n",
    "import math\n",
    "from sklearn import linear_model\n",
    "from sklearn.model_selection import KFold\n",
    "\n",
    "dtype_dict = {'bathrooms':float, 'waterfront':int, 'sqft_above':int, 'sqft_living15':float, 'grade':int, 'yr_renovated':int, 'price':float, 'bedrooms':float, 'zipcode':str, 'long':float, 'sqft_lot15':float, 'sqft_living':float, 'floors':float, 'condition':int, 'lat':float, 'date':str, 'sqft_basement':int, 'yr_built':int, 'id':str, 'sqft_lot':int, 'view':int}"
   ]
  },
  {
   "cell_type": "markdown",
   "metadata": {},
   "source": [
    "## Load data"
   ]
  },
  {
   "cell_type": "code",
   "execution_count": 2,
   "metadata": {},
   "outputs": [],
   "source": [
    "train_data = pd.read_csv(\"kc_house_data_small_train.csv\")\n",
    "val_data = pd.read_csv(\"kc_house_data_validation.csv\")\n",
    "test_data = pd.read_csv(\"kc_house_data_small_test.csv\")"
   ]
  },
  {
   "cell_type": "markdown",
   "metadata": {},
   "source": [
    "## Preprocess the data"
   ]
  },
  {
   "cell_type": "markdown",
   "metadata": {},
   "source": [
    "#### Converting to nump"
   ]
  },
  {
   "cell_type": "code",
   "execution_count": 3,
   "metadata": {},
   "outputs": [],
   "source": [
    "def get_numpy_data(df, features, output):\n",
    "    feature_matrix = np.array(df[features])\n",
    "    output_array = np.array(df[output])\n",
    "    return (feature_matrix, output_array)"
   ]
  },
  {
   "cell_type": "markdown",
   "metadata": {},
   "source": [
    "#### Normalizing features"
   ]
  },
  {
   "cell_type": "code",
   "execution_count": 4,
   "metadata": {},
   "outputs": [],
   "source": [
    "def normalize_features(features):\n",
    "    norms = np.linalg.norm(features, axis=0)\n",
    "    normalized_features = features / norms\n",
    "    return (normalized_features, norms)"
   ]
  },
  {
   "cell_type": "code",
   "execution_count": 5,
   "metadata": {},
   "outputs": [],
   "source": [
    "features = ['bedrooms', 'bathrooms', 'sqft_living', 'sqft_lot', 'floors', 'waterfront', \n",
    "            'view', 'condition', 'grade', 'sqft_above', 'sqft_basement','yr_built', \n",
    "            'yr_renovated','zipcode','lat','long','sqft_living15','sqft_lot15']\n",
    "\n",
    "output = ['price']"
   ]
  },
  {
   "cell_type": "code",
   "execution_count": 6,
   "metadata": {},
   "outputs": [
    {
     "name": "stdout",
     "output_type": "stream",
     "text": [
      "[ 0.01551285  0.01807473  0.01759212  0.00160518  0.017059    0.\n",
      "  0.05102365  0.0116321   0.01564352  0.01362084  0.02481682  0.01350306\n",
      "  0.          0.01345762  0.01345387 -0.01346922  0.01375926  0.0016225 ]\n",
      "[ 0.01163464  0.00602491  0.0083488   0.00050756  0.01279425  0.\n",
      "  0.          0.01938684  0.01390535  0.0096309   0.          0.01302544\n",
      "  0.          0.0134557   0.01346821 -0.01346251  0.01195898  0.00156612]\n"
     ]
    }
   ],
   "source": [
    "\n",
    "X_train, Y_train = get_numpy_data(train_data, features, output)\n",
    "X_val, Y_val = get_numpy_data(val_data, features, output)\n",
    "X_test, Y_test = get_numpy_data(test_data, features, output)\n",
    "\n",
    "\n",
    "X_train, norms = normalize_features(X_train)\n",
    "X_val = X_val / norms\n",
    "X_test = X_test / norms\n",
    "\n",
    "\n",
    "print(X_test[0])\n",
    "print(X_train[9])"
   ]
  },
  {
   "cell_type": "markdown",
   "metadata": {},
   "source": [
    "# 1-Nearest Neighbour"
   ]
  },
  {
   "cell_type": "code",
   "execution_count": 7,
   "metadata": {},
   "outputs": [
    {
     "data": {
      "text/plain": [
       "0.05972359374484452"
      ]
     },
     "execution_count": 7,
     "metadata": {},
     "output_type": "execute_result"
    }
   ],
   "source": [
    "#Euclidean distance between the query house and the 10th house of the training set?\n",
    "np.sqrt(np.sum((X_test[0] - X_train[9])**2))"
   ]
  },
  {
   "cell_type": "code",
   "execution_count": 8,
   "metadata": {},
   "outputs": [
    {
     "name": "stdout",
     "output_type": "stream",
     "text": [
      "8\n"
     ]
    }
   ],
   "source": [
    "# Among the first 10 training houses, which house is the closest to the query house?\n",
    "l = []\n",
    "for i in range(10):\n",
    "    l.append(np.sqrt(np.sum((X_test[0] - X_train[i])**2)))\n",
    "print(np.argmin(np.array(l)))"
   ]
  },
  {
   "cell_type": "markdown",
   "metadata": {},
   "source": [
    "#### Function for computing distances"
   ]
  },
  {
   "cell_type": "code",
   "execution_count": 9,
   "metadata": {},
   "outputs": [],
   "source": [
    "def compute_distances(X_train, query):\n",
    "    distances = np.sqrt(np.sum(((X_train - query)**2),axis=1))\n",
    "    return distances"
   ]
  },
  {
   "cell_type": "code",
   "execution_count": 10,
   "metadata": {},
   "outputs": [
    {
     "data": {
      "text/plain": [
       "382"
      ]
     },
     "execution_count": 10,
     "metadata": {},
     "output_type": "execute_result"
    }
   ],
   "source": [
    "#Take the query house to be third house of the test set (features_test[2]). What is the index of the house in the training set that is closest to this query house?\n",
    "\n",
    "dists = compute_distances(X_train, X_test[2])\n",
    "np.argmin(np.array(dists))"
   ]
  },
  {
   "cell_type": "code",
   "execution_count": 11,
   "metadata": {},
   "outputs": [
    {
     "name": "stdout",
     "output_type": "stream",
     "text": [
      "[249000]\n"
     ]
    }
   ],
   "source": [
    "#What is the predicted value of the query house based on 1-nearest neighbor regression?\n",
    "\n",
    "print(Y_train[382])"
   ]
  },
  {
   "cell_type": "markdown",
   "metadata": {},
   "source": [
    "# K-Nearest Neighbour"
   ]
  },
  {
   "cell_type": "code",
   "execution_count": 13,
   "metadata": {},
   "outputs": [],
   "source": [
    "def k_nearest_neighbors(k, X_train, query):\n",
    "    dists = compute_distances(X_train, query)\n",
    "    neighbors = np.argsort(dists)[:k]\n",
    "    return neighbors"
   ]
  },
  {
   "cell_type": "code",
   "execution_count": 14,
   "metadata": {},
   "outputs": [
    {
     "data": {
      "text/plain": [
       "array([ 382, 1149, 4087, 3142], dtype=int64)"
      ]
     },
     "execution_count": 14,
     "metadata": {},
     "output_type": "execute_result"
    }
   ],
   "source": [
    "#Take the query house to be third house of the test set (features_test[2]). What are the indices of the 4 training houses closest to the query house?\n",
    "\n",
    "k_nearest_neighbors(4, X_train, X_test[2])"
   ]
  },
  {
   "cell_type": "code",
   "execution_count": 15,
   "metadata": {},
   "outputs": [
    {
     "data": {
      "text/plain": [
       "413987.5"
      ]
     },
     "execution_count": 15,
     "metadata": {},
     "output_type": "execute_result"
    }
   ],
   "source": [
    "\"\"\"\n",
    "Now that we know how to find the k-nearest neighbors, write a function that predicts the value of a given query house. \n",
    "For simplicity, take the average of the prices of the k nearest neighbors in the training set. The function should have \n",
    "the following parameters:\n",
    "\"\"\"\n",
    "def predict_output_of_query(k, X_train, Y_train, query):\n",
    "    neighbors = k_nearest_neighbors(k, X_train, query)\n",
    "    prediction = np.mean(Y_train[neighbors])\n",
    "    return prediction\n",
    "\n",
    "\n",
    "\n",
    "predict_output_of_query(4, X_train, Y_train, X_test[2])"
   ]
  },
  {
   "cell_type": "markdown",
   "metadata": {},
   "source": [
    "### write a function to predict the value of each and every house in a query set"
   ]
  },
  {
   "cell_type": "code",
   "execution_count": 18,
   "metadata": {},
   "outputs": [
    {
     "name": "stdout",
     "output_type": "stream",
     "text": [
      "[881300.0, 431860.0, 460595.0, 430200.0, 766750.0, 667420.0, 350032.0, 512800.7, 484000.0, 457235.0]\n"
     ]
    },
    {
     "data": {
      "text/plain": [
       "'\\n[881300.0,\\n 431860.0,\\n 460595.0,\\n 430200.0,\\n 766750.0,\\n 667420.0,\\n 350032.0, --> min, index = 6\\n 512800.7,\\n 484000.0,\\n 457235.0]\\n'"
      ]
     },
     "execution_count": 18,
     "metadata": {},
     "output_type": "execute_result"
    }
   ],
   "source": [
    "def predict_output(k, X_train, Y_train, query_set):\n",
    "    predictions = []\n",
    "    for query in query_set:\n",
    "        prediction = predict_output_of_query(k,X_train,Y_train, query)\n",
    "        predictions.append(prediction)\n",
    "    return predictions\n",
    "\n",
    "\n",
    "\n",
    "# Make predictions for the first 10 houses in the test set, using k=10. \n",
    "# What is the index of the house in this query set that has the lowest predicted value? \n",
    "# What is the predicted value of this house?\n",
    "\n",
    "\n",
    "print(predict_output(10, X_train, Y_train, X_test[:10]))\n"
   ]
  },
  {
   "cell_type": "code",
   "execution_count": 19,
   "metadata": {},
   "outputs": [
    {
     "name": "stdout",
     "output_type": "stream",
     "text": [
      "14\n"
     ]
    }
   ],
   "source": [
    "RSS = []\n",
    "\n",
    "for k in range(1,16):\n",
    "    val_pred = predict_output(k, X_train, Y_train, X_val)\n",
    "    rss = np.sum((Y_val - val_pred)**2)\n",
    "    RSS.append(rss)    \n",
    "    \n",
    "print(np.argmin(RSS))\n",
    "#14  so k = 15"
   ]
  },
  {
   "cell_type": "code",
   "execution_count": 21,
   "metadata": {},
   "outputs": [
    {
     "data": {
      "text/plain": [
       "6.811729487234961e+17"
      ]
     },
     "execution_count": 21,
     "metadata": {},
     "output_type": "execute_result"
    }
   ],
   "source": [
    "test_pred = predict_output(15, X_train, Y_train, X_test)\n",
    "rss = np.sum((Y_test - test_pred)**2)\n",
    "rss\n",
    "#6.811729487234961e+17"
   ]
  }
 ],
 "metadata": {
  "kernelspec": {
   "display_name": "Python 3",
   "language": "python",
   "name": "python3"
  },
  "language_info": {
   "codemirror_mode": {
    "name": "ipython",
    "version": 3
   },
   "file_extension": ".py",
   "mimetype": "text/x-python",
   "name": "python",
   "nbconvert_exporter": "python",
   "pygments_lexer": "ipython3",
   "version": "3.6.5"
  }
 },
 "nbformat": 4,
 "nbformat_minor": 2
}
