{
 "cells": [
  {
   "cell_type": "markdown",
   "metadata": {},
   "source": [
    "# Classification\n",
    "\n",
    "## Logistic Regresssion Intro"
   ]
  },
  {
   "cell_type": "code",
   "execution_count": 1,
   "metadata": {},
   "outputs": [],
   "source": [
    "import pandas as pd\n",
    "from nltk import FreqDist"
   ]
  },
  {
   "cell_type": "code",
   "execution_count": 2,
   "metadata": {},
   "outputs": [
    {
     "data": {
      "text/html": [
       "<div>\n",
       "<style scoped>\n",
       "    .dataframe tbody tr th:only-of-type {\n",
       "        vertical-align: middle;\n",
       "    }\n",
       "\n",
       "    .dataframe tbody tr th {\n",
       "        vertical-align: top;\n",
       "    }\n",
       "\n",
       "    .dataframe thead th {\n",
       "        text-align: right;\n",
       "    }\n",
       "</style>\n",
       "<table border=\"1\" class=\"dataframe\">\n",
       "  <thead>\n",
       "    <tr style=\"text-align: right;\">\n",
       "      <th></th>\n",
       "      <th>name</th>\n",
       "      <th>review</th>\n",
       "      <th>rating</th>\n",
       "    </tr>\n",
       "  </thead>\n",
       "  <tbody>\n",
       "    <tr>\n",
       "      <th>0</th>\n",
       "      <td>Planetwise Flannel Wipes</td>\n",
       "      <td>These flannel wipes are OK, but in my opinion ...</td>\n",
       "      <td>3</td>\n",
       "    </tr>\n",
       "    <tr>\n",
       "      <th>1</th>\n",
       "      <td>Planetwise Wipe Pouch</td>\n",
       "      <td>it came early and was not disappointed. i love...</td>\n",
       "      <td>5</td>\n",
       "    </tr>\n",
       "    <tr>\n",
       "      <th>2</th>\n",
       "      <td>Annas Dream Full Quilt with 2 Shams</td>\n",
       "      <td>Very soft and comfortable and warmer than it l...</td>\n",
       "      <td>5</td>\n",
       "    </tr>\n",
       "    <tr>\n",
       "      <th>3</th>\n",
       "      <td>Stop Pacifier Sucking without tears with Thumb...</td>\n",
       "      <td>This is a product well worth the purchase.  I ...</td>\n",
       "      <td>5</td>\n",
       "    </tr>\n",
       "    <tr>\n",
       "      <th>4</th>\n",
       "      <td>Stop Pacifier Sucking without tears with Thumb...</td>\n",
       "      <td>All of my kids have cried non-stop when I trie...</td>\n",
       "      <td>5</td>\n",
       "    </tr>\n",
       "  </tbody>\n",
       "</table>\n",
       "</div>"
      ],
      "text/plain": [
       "                                                name  \\\n",
       "0                           Planetwise Flannel Wipes   \n",
       "1                              Planetwise Wipe Pouch   \n",
       "2                Annas Dream Full Quilt with 2 Shams   \n",
       "3  Stop Pacifier Sucking without tears with Thumb...   \n",
       "4  Stop Pacifier Sucking without tears with Thumb...   \n",
       "\n",
       "                                              review  rating  \n",
       "0  These flannel wipes are OK, but in my opinion ...       3  \n",
       "1  it came early and was not disappointed. i love...       5  \n",
       "2  Very soft and comfortable and warmer than it l...       5  \n",
       "3  This is a product well worth the purchase.  I ...       5  \n",
       "4  All of my kids have cried non-stop when I trie...       5  "
      ]
     },
     "execution_count": 2,
     "metadata": {},
     "output_type": "execute_result"
    }
   ],
   "source": [
    "df = pd.read_csv(\"amazon_baby.csv\")\n",
    "df.head()"
   ]
  },
  {
   "cell_type": "code",
   "execution_count": 3,
   "metadata": {},
   "outputs": [
    {
     "data": {
      "text/plain": [
       "{'These': 1,\n",
       " 'flannel': 1,\n",
       " 'wipes': 2,\n",
       " 'are': 3,\n",
       " 'OK,': 1,\n",
       " 'but': 1,\n",
       " 'in': 1,\n",
       " 'my': 1,\n",
       " 'opinion': 1,\n",
       " 'not': 1,\n",
       " 'worth': 1,\n",
       " 'keeping.': 1,\n",
       " 'I': 2,\n",
       " 'also': 1,\n",
       " 'ordered': 1,\n",
       " 'someImse': 1,\n",
       " 'Vimse': 1,\n",
       " 'Cloth': 1,\n",
       " 'Wipes-Ocean': 1,\n",
       " 'Blue-12': 1,\n",
       " 'countwhich': 1,\n",
       " 'larger,': 1,\n",
       " 'had': 2,\n",
       " 'a': 2,\n",
       " 'nicer,': 1,\n",
       " 'softer': 1,\n",
       " 'texture': 1,\n",
       " 'and': 5,\n",
       " 'just': 1,\n",
       " 'seemed': 1,\n",
       " 'higher': 1,\n",
       " 'quality.': 1,\n",
       " 'use': 1,\n",
       " 'cloth': 1,\n",
       " 'for': 2,\n",
       " 'hands': 1,\n",
       " 'faces': 1,\n",
       " 'have': 2,\n",
       " 'been': 1,\n",
       " 'usingThirsties': 1,\n",
       " '6': 1,\n",
       " 'Pack': 1,\n",
       " 'Fab': 1,\n",
       " 'Wipes,': 1,\n",
       " 'Boyfor': 1,\n",
       " 'about': 1,\n",
       " '8': 1,\n",
       " 'months': 1,\n",
       " 'now': 1,\n",
       " 'need': 1,\n",
       " 'to': 2,\n",
       " 'replace': 1,\n",
       " 'them': 1,\n",
       " 'because': 1,\n",
       " 'they': 1,\n",
       " 'starting': 1,\n",
       " 'get': 1,\n",
       " 'rough': 1,\n",
       " 'stink': 1,\n",
       " 'issues': 1,\n",
       " 'while': 1,\n",
       " 'that': 1,\n",
       " 'stripping': 1,\n",
       " 'no': 1,\n",
       " 'longer': 1,\n",
       " 'handles.': 1}"
      ]
     },
     "execution_count": 3,
     "metadata": {},
     "output_type": "execute_result"
    }
   ],
   "source": [
    "dict((w, df['review'][0].split().count(w)) for w in df['review'][0].split())"
   ]
  },
  {
   "cell_type": "markdown",
   "metadata": {},
   "source": [
    "### Addin the \"word_count\" column"
   ]
  },
  {
   "cell_type": "code",
   "execution_count": 5,
   "metadata": {},
   "outputs": [],
   "source": [
    "func = lambda row: FreqDist(row.split()) if isinstance(row, str) else \"\"\n",
    "df['word_count'] = df['review'].apply(func)"
   ]
  },
  {
   "cell_type": "code",
   "execution_count": 6,
   "metadata": {},
   "outputs": [
    {
     "data": {
      "text/html": [
       "<div>\n",
       "<style scoped>\n",
       "    .dataframe tbody tr th:only-of-type {\n",
       "        vertical-align: middle;\n",
       "    }\n",
       "\n",
       "    .dataframe tbody tr th {\n",
       "        vertical-align: top;\n",
       "    }\n",
       "\n",
       "    .dataframe thead th {\n",
       "        text-align: right;\n",
       "    }\n",
       "</style>\n",
       "<table border=\"1\" class=\"dataframe\">\n",
       "  <thead>\n",
       "    <tr style=\"text-align: right;\">\n",
       "      <th></th>\n",
       "      <th>name</th>\n",
       "      <th>review</th>\n",
       "      <th>rating</th>\n",
       "      <th>word_count</th>\n",
       "    </tr>\n",
       "  </thead>\n",
       "  <tbody>\n",
       "    <tr>\n",
       "      <th>0</th>\n",
       "      <td>Planetwise Flannel Wipes</td>\n",
       "      <td>These flannel wipes are OK, but in my opinion ...</td>\n",
       "      <td>3</td>\n",
       "      <td>{'These': 1, 'flannel': 1, 'wipes': 2, 'are': ...</td>\n",
       "    </tr>\n",
       "    <tr>\n",
       "      <th>1</th>\n",
       "      <td>Planetwise Wipe Pouch</td>\n",
       "      <td>it came early and was not disappointed. i love...</td>\n",
       "      <td>5</td>\n",
       "      <td>{'it': 2, 'came': 1, 'early': 1, 'and': 3, 'wa...</td>\n",
       "    </tr>\n",
       "    <tr>\n",
       "      <th>2</th>\n",
       "      <td>Annas Dream Full Quilt with 2 Shams</td>\n",
       "      <td>Very soft and comfortable and warmer than it l...</td>\n",
       "      <td>5</td>\n",
       "      <td>{'Very': 1, 'soft': 1, 'and': 2, 'comfortable'...</td>\n",
       "    </tr>\n",
       "    <tr>\n",
       "      <th>3</th>\n",
       "      <td>Stop Pacifier Sucking without tears with Thumb...</td>\n",
       "      <td>This is a product well worth the purchase.  I ...</td>\n",
       "      <td>5</td>\n",
       "      <td>{'This': 1, 'is': 4, 'a': 2, 'product': 2, 'we...</td>\n",
       "    </tr>\n",
       "    <tr>\n",
       "      <th>4</th>\n",
       "      <td>Stop Pacifier Sucking without tears with Thumb...</td>\n",
       "      <td>All of my kids have cried non-stop when I trie...</td>\n",
       "      <td>5</td>\n",
       "      <td>{'All': 1, 'of': 1, 'my': 1, 'kids': 2, 'have'...</td>\n",
       "    </tr>\n",
       "  </tbody>\n",
       "</table>\n",
       "</div>"
      ],
      "text/plain": [
       "                                                name  \\\n",
       "0                           Planetwise Flannel Wipes   \n",
       "1                              Planetwise Wipe Pouch   \n",
       "2                Annas Dream Full Quilt with 2 Shams   \n",
       "3  Stop Pacifier Sucking without tears with Thumb...   \n",
       "4  Stop Pacifier Sucking without tears with Thumb...   \n",
       "\n",
       "                                              review  rating  \\\n",
       "0  These flannel wipes are OK, but in my opinion ...       3   \n",
       "1  it came early and was not disappointed. i love...       5   \n",
       "2  Very soft and comfortable and warmer than it l...       5   \n",
       "3  This is a product well worth the purchase.  I ...       5   \n",
       "4  All of my kids have cried non-stop when I trie...       5   \n",
       "\n",
       "                                          word_count  \n",
       "0  {'These': 1, 'flannel': 1, 'wipes': 2, 'are': ...  \n",
       "1  {'it': 2, 'came': 1, 'early': 1, 'and': 3, 'wa...  \n",
       "2  {'Very': 1, 'soft': 1, 'and': 2, 'comfortable'...  \n",
       "3  {'This': 1, 'is': 4, 'a': 2, 'product': 2, 'we...  \n",
       "4  {'All': 1, 'of': 1, 'my': 1, 'kids': 2, 'have'...  "
      ]
     },
     "execution_count": 6,
     "metadata": {},
     "output_type": "execute_result"
    }
   ],
   "source": [
    "df.head()"
   ]
  },
  {
   "cell_type": "code",
   "execution_count": 7,
   "metadata": {},
   "outputs": [
    {
     "data": {
      "text/plain": [
       "Vulli Sophie the Giraffe Teether                                                                                                                                                                               785\n",
       "Simple Wishes Hands-Free Breastpump Bra, Pink, XS-L                                                                                                                                                            562\n",
       "Infant Optics DXR-5 2.4 GHz Digital Video Baby Monitor with Night Vision                                                                                                                                       561\n",
       "Baby Einstein Take Along Tunes                                                                                                                                                                                 547\n",
       "Cloud b Twilight Constellation Night Light, Turtle                                                                                                                                                             520\n",
       "Fisher-Price Booster Seat, Blue/Green/Gray                                                                                                                                                                     489\n",
       "Fisher-Price Rainforest Jumperoo                                                                                                                                                                               450\n",
       "Graco Nautilus 3-in-1 Car Seat, Matrix                                                                                                                                                                         419\n",
       "Leachco Snoogle Total Body Pillow                                                                                                                                                                              388\n",
       "Regalo Easy Step Walk Thru Gate, White                                                                                                                                                                         374\n",
       "Baby Trend Diaper Champ                                                                                                                                                                                        333\n",
       "Skip Hop Zoo Pack Little Kid Backpack, Dog                                                                                                                                                                     286\n",
       "The First Years Jet Stroller, Red/Black                                                                                                                                                                        284\n",
       "NTM-910YIC - Sony Baby Call Nursery Monitor                                                                                                                                                                    284\n",
       "Leachco Back \\'N Belly Contoured Body Pillow, Ivory                                                                                                                                                            283\n",
       "North States Superyard Play Yard, Grey, 6 Panel                                                                                                                                                                281\n",
       "Fisher-Price Cradle \\'N Swing,  My Little Snugabunny                                                                                                                                                           278\n",
       "Munchkin Nursery Projector and Sound System, White                                                                                                                                                             242\n",
       "Tiny Love Take-Along Arch, Sunny Stroll                                                                                                                                                                        241\n",
       "Regalo Easy Open 50 Inch Super Wide Walk Thru Gate - White                                                                                                                                                     238\n",
       "Fisher-Price Newborn Rock \\'n Play Sleeper, Yellow                                                                                                                                                             236\n",
       "VTech Communications Safe &amp; Sound Digital Audio Monitor                                                                                                                                                    233\n",
       "Fisher-Price Rainforest Melodies and Lights Deluxe Gym                                                                                                                                                         232\n",
       "BABYBJORN Potty Chair - Red                                                                                                                                                                                    232\n",
       "The First Year\\'s Infant To Toddler Tub with Sling, Blue                                                                                                                                                       230\n",
       "Thermos Foogo Leak-Proof Stainless Steel 10-Ounce Food Jar, Pink                                                                                                                                               226\n",
       "Summer Infant Multi-Use Deco Extra Tall Walk-Thru Gate, Bronze                                                                                                                                                 219\n",
       "The First Years Ignite Stroller                                                                                                                                                                                218\n",
       "Fisher-Price Infant-To-Toddler Rocker, Blue/Green                                                                                                                                                              217\n",
       "Prince Lionheart Jumbo Toy Hammock                                                                                                                                                                             217\n",
       "                                                                                                                                                                                                              ... \n",
       "Potty Chair with Accessories Finish: Natural Lacquer                                                                                                                                                             1\n",
       "Cocalo Christmas Plush Security Blanket, Snowman                                                                                                                                                                 1\n",
       "Sealy All Natural Crib Mattress Pad                                                                                                                                                                              1\n",
       "Playtex Insulated &amp; Spill-Proof Cup, Coolster Tumbler, (Colors And Designs May Vary) (Pack of 2)                                                                                                             1\n",
       "Cheetah Girl Pink and Brown Wall Art Hangings by Sweet Jojo Designs                                                                                                                                              1\n",
       "POOTERS NEWBORN FITTED DIAPER NATURAL                                                                                                                                                                            1\n",
       "Lambs &amp; Ivy Froggy Tales Wall Shelf                                                                                                                                                                          1\n",
       "Earthentree Organic Peppy Five Stackers Toy                                                                                                                                                                      1\n",
       "Disney Winnie the Pooh Pacifier and Holder                                                                                                                                                                       1\n",
       "Vandot 2IN1 Phone Mobile Accessory For Samsung Galaxy S3 i9300 Soft TPU Silicone Back Case Cover Protection Skin Shell Night Owl Polka Dot + 1x Stylus Touch Pen (Flexible color)- Green White Cute Cartoon      1\n",
       "Mud Pie Baby Little Princess Grandma and Me Twill Frame                                                                                                                                                          1\n",
       "CoCaLo Turtle Reef Crib Bumper                                                                                                                                                                                   1\n",
       "Circo&reg; Crib Dust Ruffle - Multi Dots                                                                                                                                                                         1\n",
       "Bumkins All-In-One Cloth Diaper, Green Eggs                                                                                                                                                                      1\n",
       "The First Years ABC Fun Soft Spout Sippy Cup, Colors May Vary, 10 Ounce                                                                                                                                          1\n",
       "Curious George Party Tote Bag (Set Of 10)                                                                                                                                                                        1\n",
       "Carter\\'s 2-pack Stripe and Butterfly Swaddle Blankets                                                                                                                                                           1\n",
       "Disney Winnie the Pooh First Photo, Handprint &amp; Footprint Frame                                                                                                                                              1\n",
       "Disney Tigger Teether and Rattle Blankie                                                                                                                                                                         1\n",
       "Music Lamp Projection Calendar Clock with Backlight Music Alarm Clock                                                                                                                                            1\n",
       "Disney Baby\\'s Brag Book Photo Album Boys Train                                                                                                                                                                  1\n",
       "Snuggy Baby Wrap- Midnight Surf                                                                                                                                                                                  1\n",
       "Summer Infant Cradle Pad, Oval                                                                                                                                                                                   1\n",
       "JOTO Premium Screen Protector Film for Barnes and Noble NOOK HD+ 9 inch Tablet, Anti Glare, Anti Fingerprint (Matte Finish) with Lifetime Replacement Warranty (3 Pack)                                          1\n",
       "Custom Baby Girl Bedding - Pink Safari 13 PCS Crib Nursery Bedding Set                                                                                                                                           1\n",
       "Gerber 3PK Terry Burpcloth - Boy                                                                                                                                                                                 1\n",
       "Instrumento Musical Maracas                                                                                                                                                                                      1\n",
       "Petit Tresor 2 Piece Versailles Wall Art                                                                                                                                                                         1\n",
       "Diapees and Wipees - Diaper and Wipe Holder (Pink Zoo Animals)                                                                                                                                                   1\n",
       "guzzie+Guss Full-Sized Stroller, Titanium                                                                                                                                                                        1\n",
       "Name: name, Length: 32417, dtype: int64"
      ]
     },
     "execution_count": 7,
     "metadata": {},
     "output_type": "execute_result"
    }
   ],
   "source": [
    "df['name'].value_counts()"
   ]
  },
  {
   "cell_type": "code",
   "execution_count": 8,
   "metadata": {},
   "outputs": [
    {
     "name": "stdout",
     "output_type": "stream",
     "text": [
      "5    535\n",
      "4     95\n",
      "3     62\n",
      "1     56\n",
      "2     37\n",
      "Name: rating, dtype: int64\n"
     ]
    }
   ],
   "source": [
    "giraffe_reviews = df[df['name'] == 'Vulli Sophie the Giraffe Teether']\n",
    "\n",
    "print(giraffe_reviews['rating'].value_counts())"
   ]
  },
  {
   "cell_type": "markdown",
   "metadata": {},
   "source": [
    "### Remove ratings with 3 points, assign 1 to >=4 and 0 to others"
   ]
  },
  {
   "cell_type": "code",
   "execution_count": 9,
   "metadata": {},
   "outputs": [],
   "source": [
    "df = df[df['rating'] != 3]\n",
    "\n",
    "df['sentiment'] = df['rating'] >= 4"
   ]
  },
  {
   "cell_type": "code",
   "execution_count": 10,
   "metadata": {},
   "outputs": [
    {
     "name": "stderr",
     "output_type": "stream",
     "text": [
      "C:\\Users\\abido\\Anaconda3\\lib\\site-packages\\sklearn\\model_selection\\_split.py:2179: FutureWarning: From version 0.21, test_size will always complement train_size unless both are specified.\n",
      "  FutureWarning)\n"
     ]
    }
   ],
   "source": [
    "from sklearn.model_selection import train_test_split\n",
    "train_data, test_data = train_test_split(df, train_size=0.8, random_state=0)\n"
   ]
  },
  {
   "cell_type": "code",
   "execution_count": 11,
   "metadata": {},
   "outputs": [
    {
     "name": "stderr",
     "output_type": "stream",
     "text": [
      "C:\\Users\\abido\\Anaconda3\\lib\\site-packages\\sklearn\\linear_model\\logistic.py:433: FutureWarning: Default solver will be changed to 'lbfgs' in 0.22. Specify a solver to silence this warning.\n",
      "  FutureWarning)\n"
     ]
    },
    {
     "ename": "TypeError",
     "evalue": "float() argument must be a string or a number, not 'dict'",
     "output_type": "error",
     "traceback": [
      "\u001b[1;31m---------------------------------------------------------------------------\u001b[0m",
      "\u001b[1;31mTypeError\u001b[0m                                 Traceback (most recent call last)",
      "\u001b[1;32m<ipython-input-11-0155f9d452aa>\u001b[0m in \u001b[0;36m<module>\u001b[1;34m()\u001b[0m\n\u001b[0;32m      3\u001b[0m \u001b[0msentiment_model\u001b[0m \u001b[1;33m=\u001b[0m \u001b[0mLogisticRegression\u001b[0m\u001b[1;33m(\u001b[0m\u001b[1;33m)\u001b[0m\u001b[1;33m\u001b[0m\u001b[0m\n\u001b[0;32m      4\u001b[0m \u001b[1;33m\u001b[0m\u001b[0m\n\u001b[1;32m----> 5\u001b[1;33m \u001b[0msentiment_model\u001b[0m\u001b[1;33m.\u001b[0m\u001b[0mfit\u001b[0m\u001b[1;33m(\u001b[0m\u001b[0mdf\u001b[0m\u001b[1;33m[\u001b[0m\u001b[1;34m'word_count'\u001b[0m\u001b[1;33m]\u001b[0m\u001b[1;33m.\u001b[0m\u001b[0mapply\u001b[0m\u001b[1;33m(\u001b[0m\u001b[1;32mlambda\u001b[0m \u001b[0mrow\u001b[0m\u001b[1;33m:\u001b[0m \u001b[0mdict\u001b[0m\u001b[1;33m(\u001b[0m\u001b[0mrow\u001b[0m\u001b[1;33m)\u001b[0m\u001b[1;33m)\u001b[0m\u001b[1;33m,\u001b[0m \u001b[0mdf\u001b[0m\u001b[1;33m[\u001b[0m\u001b[1;34m'sentiment'\u001b[0m\u001b[1;33m]\u001b[0m\u001b[1;33m)\u001b[0m\u001b[1;33m\u001b[0m\u001b[0m\n\u001b[0m",
      "\u001b[1;32m~\\Anaconda3\\lib\\site-packages\\sklearn\\linear_model\\logistic.py\u001b[0m in \u001b[0;36mfit\u001b[1;34m(self, X, y, sample_weight)\u001b[0m\n\u001b[0;32m   1283\u001b[0m \u001b[1;33m\u001b[0m\u001b[0m\n\u001b[0;32m   1284\u001b[0m         X, y = check_X_y(X, y, accept_sparse='csr', dtype=_dtype, order=\"C\",\n\u001b[1;32m-> 1285\u001b[1;33m                          accept_large_sparse=solver != 'liblinear')\n\u001b[0m\u001b[0;32m   1286\u001b[0m         \u001b[0mcheck_classification_targets\u001b[0m\u001b[1;33m(\u001b[0m\u001b[0my\u001b[0m\u001b[1;33m)\u001b[0m\u001b[1;33m\u001b[0m\u001b[0m\n\u001b[0;32m   1287\u001b[0m         \u001b[0mself\u001b[0m\u001b[1;33m.\u001b[0m\u001b[0mclasses_\u001b[0m \u001b[1;33m=\u001b[0m \u001b[0mnp\u001b[0m\u001b[1;33m.\u001b[0m\u001b[0munique\u001b[0m\u001b[1;33m(\u001b[0m\u001b[0my\u001b[0m\u001b[1;33m)\u001b[0m\u001b[1;33m\u001b[0m\u001b[0m\n",
      "\u001b[1;32m~\\Anaconda3\\lib\\site-packages\\sklearn\\utils\\validation.py\u001b[0m in \u001b[0;36mcheck_X_y\u001b[1;34m(X, y, accept_sparse, accept_large_sparse, dtype, order, copy, force_all_finite, ensure_2d, allow_nd, multi_output, ensure_min_samples, ensure_min_features, y_numeric, warn_on_dtype, estimator)\u001b[0m\n\u001b[0;32m    754\u001b[0m                     \u001b[0mensure_min_features\u001b[0m\u001b[1;33m=\u001b[0m\u001b[0mensure_min_features\u001b[0m\u001b[1;33m,\u001b[0m\u001b[1;33m\u001b[0m\u001b[0m\n\u001b[0;32m    755\u001b[0m                     \u001b[0mwarn_on_dtype\u001b[0m\u001b[1;33m=\u001b[0m\u001b[0mwarn_on_dtype\u001b[0m\u001b[1;33m,\u001b[0m\u001b[1;33m\u001b[0m\u001b[0m\n\u001b[1;32m--> 756\u001b[1;33m                     estimator=estimator)\n\u001b[0m\u001b[0;32m    757\u001b[0m     \u001b[1;32mif\u001b[0m \u001b[0mmulti_output\u001b[0m\u001b[1;33m:\u001b[0m\u001b[1;33m\u001b[0m\u001b[0m\n\u001b[0;32m    758\u001b[0m         y = check_array(y, 'csr', force_all_finite=True, ensure_2d=False,\n",
      "\u001b[1;32m~\\Anaconda3\\lib\\site-packages\\sklearn\\utils\\validation.py\u001b[0m in \u001b[0;36mcheck_array\u001b[1;34m(array, accept_sparse, accept_large_sparse, dtype, order, copy, force_all_finite, ensure_2d, allow_nd, ensure_min_samples, ensure_min_features, warn_on_dtype, estimator)\u001b[0m\n\u001b[0;32m    525\u001b[0m             \u001b[1;32mtry\u001b[0m\u001b[1;33m:\u001b[0m\u001b[1;33m\u001b[0m\u001b[0m\n\u001b[0;32m    526\u001b[0m                 \u001b[0mwarnings\u001b[0m\u001b[1;33m.\u001b[0m\u001b[0msimplefilter\u001b[0m\u001b[1;33m(\u001b[0m\u001b[1;34m'error'\u001b[0m\u001b[1;33m,\u001b[0m \u001b[0mComplexWarning\u001b[0m\u001b[1;33m)\u001b[0m\u001b[1;33m\u001b[0m\u001b[0m\n\u001b[1;32m--> 527\u001b[1;33m                 \u001b[0marray\u001b[0m \u001b[1;33m=\u001b[0m \u001b[0mnp\u001b[0m\u001b[1;33m.\u001b[0m\u001b[0masarray\u001b[0m\u001b[1;33m(\u001b[0m\u001b[0marray\u001b[0m\u001b[1;33m,\u001b[0m \u001b[0mdtype\u001b[0m\u001b[1;33m=\u001b[0m\u001b[0mdtype\u001b[0m\u001b[1;33m,\u001b[0m \u001b[0morder\u001b[0m\u001b[1;33m=\u001b[0m\u001b[0morder\u001b[0m\u001b[1;33m)\u001b[0m\u001b[1;33m\u001b[0m\u001b[0m\n\u001b[0m\u001b[0;32m    528\u001b[0m             \u001b[1;32mexcept\u001b[0m \u001b[0mComplexWarning\u001b[0m\u001b[1;33m:\u001b[0m\u001b[1;33m\u001b[0m\u001b[0m\n\u001b[0;32m    529\u001b[0m                 raise ValueError(\"Complex data not supported\\n\"\n",
      "\u001b[1;32m~\\Anaconda3\\lib\\site-packages\\numpy\\core\\numeric.py\u001b[0m in \u001b[0;36masarray\u001b[1;34m(a, dtype, order)\u001b[0m\n\u001b[0;32m    536\u001b[0m \u001b[1;33m\u001b[0m\u001b[0m\n\u001b[0;32m    537\u001b[0m     \"\"\"\n\u001b[1;32m--> 538\u001b[1;33m     \u001b[1;32mreturn\u001b[0m \u001b[0marray\u001b[0m\u001b[1;33m(\u001b[0m\u001b[0ma\u001b[0m\u001b[1;33m,\u001b[0m \u001b[0mdtype\u001b[0m\u001b[1;33m,\u001b[0m \u001b[0mcopy\u001b[0m\u001b[1;33m=\u001b[0m\u001b[1;32mFalse\u001b[0m\u001b[1;33m,\u001b[0m \u001b[0morder\u001b[0m\u001b[1;33m=\u001b[0m\u001b[0morder\u001b[0m\u001b[1;33m)\u001b[0m\u001b[1;33m\u001b[0m\u001b[0m\n\u001b[0m\u001b[0;32m    539\u001b[0m \u001b[1;33m\u001b[0m\u001b[0m\n\u001b[0;32m    540\u001b[0m \u001b[1;33m\u001b[0m\u001b[0m\n",
      "\u001b[1;31mTypeError\u001b[0m: float() argument must be a string or a number, not 'dict'"
     ]
    }
   ],
   "source": [
    "from sklearn.linear_model import LogisticRegression\n",
    "\n",
    "sentiment_model = LogisticRegression()\n",
    "\n",
    "sentiment_model.fit(df['word_count'].apply(lambda row: dict(row)), df['sentiment'])"
   ]
  },
  {
   "cell_type": "code",
   "execution_count": null,
   "metadata": {},
   "outputs": [],
   "source": []
  }
 ],
 "metadata": {
  "kernelspec": {
   "display_name": "Python 3",
   "language": "python",
   "name": "python3"
  },
  "language_info": {
   "codemirror_mode": {
    "name": "ipython",
    "version": 3
   },
   "file_extension": ".py",
   "mimetype": "text/x-python",
   "name": "python",
   "nbconvert_exporter": "python",
   "pygments_lexer": "ipython3",
   "version": "3.6.5"
  }
 },
 "nbformat": 4,
 "nbformat_minor": 2
}
