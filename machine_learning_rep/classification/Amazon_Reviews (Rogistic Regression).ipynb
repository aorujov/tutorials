{
 "cells": [
  {
   "cell_type": "markdown",
   "metadata": {},
   "source": [
    "# Amazon Reviews sentiment classifier\n",
    "\n",
    "## Model: Logistic Regression"
   ]
  },
  {
   "cell_type": "code",
   "execution_count": 1,
   "metadata": {},
   "outputs": [],
   "source": [
    "import pandas as pd\n",
    "import numpy as np\n",
    "from sklearn.linear_model import LogisticRegression"
   ]
  },
  {
   "cell_type": "code",
   "execution_count": 4,
   "metadata": {},
   "outputs": [
    {
     "data": {
      "text/html": [
       "<div>\n",
       "<style scoped>\n",
       "    .dataframe tbody tr th:only-of-type {\n",
       "        vertical-align: middle;\n",
       "    }\n",
       "\n",
       "    .dataframe tbody tr th {\n",
       "        vertical-align: top;\n",
       "    }\n",
       "\n",
       "    .dataframe thead th {\n",
       "        text-align: right;\n",
       "    }\n",
       "</style>\n",
       "<table border=\"1\" class=\"dataframe\">\n",
       "  <thead>\n",
       "    <tr style=\"text-align: right;\">\n",
       "      <th></th>\n",
       "      <th>name</th>\n",
       "      <th>review</th>\n",
       "      <th>rating</th>\n",
       "    </tr>\n",
       "  </thead>\n",
       "  <tbody>\n",
       "    <tr>\n",
       "      <th>0</th>\n",
       "      <td>Planetwise Flannel Wipes</td>\n",
       "      <td>These flannel wipes are OK, but in my opinion ...</td>\n",
       "      <td>3</td>\n",
       "    </tr>\n",
       "    <tr>\n",
       "      <th>1</th>\n",
       "      <td>Planetwise Wipe Pouch</td>\n",
       "      <td>it came early and was not disappointed. i love...</td>\n",
       "      <td>5</td>\n",
       "    </tr>\n",
       "    <tr>\n",
       "      <th>2</th>\n",
       "      <td>Annas Dream Full Quilt with 2 Shams</td>\n",
       "      <td>Very soft and comfortable and warmer than it l...</td>\n",
       "      <td>5</td>\n",
       "    </tr>\n",
       "    <tr>\n",
       "      <th>3</th>\n",
       "      <td>Stop Pacifier Sucking without tears with Thumb...</td>\n",
       "      <td>This is a product well worth the purchase.  I ...</td>\n",
       "      <td>5</td>\n",
       "    </tr>\n",
       "    <tr>\n",
       "      <th>4</th>\n",
       "      <td>Stop Pacifier Sucking without tears with Thumb...</td>\n",
       "      <td>All of my kids have cried non-stop when I trie...</td>\n",
       "      <td>5</td>\n",
       "    </tr>\n",
       "  </tbody>\n",
       "</table>\n",
       "</div>"
      ],
      "text/plain": [
       "                                                name  \\\n",
       "0                           Planetwise Flannel Wipes   \n",
       "1                              Planetwise Wipe Pouch   \n",
       "2                Annas Dream Full Quilt with 2 Shams   \n",
       "3  Stop Pacifier Sucking without tears with Thumb...   \n",
       "4  Stop Pacifier Sucking without tears with Thumb...   \n",
       "\n",
       "                                              review  rating  \n",
       "0  These flannel wipes are OK, but in my opinion ...       3  \n",
       "1  it came early and was not disappointed. i love...       5  \n",
       "2  Very soft and comfortable and warmer than it l...       5  \n",
       "3  This is a product well worth the purchase.  I ...       5  \n",
       "4  All of my kids have cried non-stop when I trie...       5  "
      ]
     },
     "execution_count": 4,
     "metadata": {},
     "output_type": "execute_result"
    }
   ],
   "source": [
    "# import the dataset\n",
    "df = pd.read_csv(\"amazon_baby.csv\")\n",
    "df.head()"
   ]
  },
  {
   "cell_type": "markdown",
   "metadata": {},
   "source": [
    "#### Preprocessing"
   ]
  },
  {
   "cell_type": "code",
   "execution_count": 5,
   "metadata": {},
   "outputs": [],
   "source": [
    "import string\n",
    "\n",
    "def remove_punctuation(text):\n",
    "    remove_punct_map = dict.fromkeys(map(ord, string.punctuation))\n",
    "    return text.translate(remove_punct_map)"
   ]
  },
  {
   "cell_type": "code",
   "execution_count": 6,
   "metadata": {},
   "outputs": [
    {
     "data": {
      "text/html": [
       "<div>\n",
       "<style scoped>\n",
       "    .dataframe tbody tr th:only-of-type {\n",
       "        vertical-align: middle;\n",
       "    }\n",
       "\n",
       "    .dataframe tbody tr th {\n",
       "        vertical-align: top;\n",
       "    }\n",
       "\n",
       "    .dataframe thead th {\n",
       "        text-align: right;\n",
       "    }\n",
       "</style>\n",
       "<table border=\"1\" class=\"dataframe\">\n",
       "  <thead>\n",
       "    <tr style=\"text-align: right;\">\n",
       "      <th></th>\n",
       "      <th>name</th>\n",
       "      <th>review</th>\n",
       "      <th>rating</th>\n",
       "      <th>review_clean</th>\n",
       "      <th>sentiment</th>\n",
       "    </tr>\n",
       "  </thead>\n",
       "  <tbody>\n",
       "    <tr>\n",
       "      <th>1</th>\n",
       "      <td>Planetwise Wipe Pouch</td>\n",
       "      <td>it came early and was not disappointed. i love...</td>\n",
       "      <td>5</td>\n",
       "      <td>it came early and was not disappointed i love ...</td>\n",
       "      <td>1</td>\n",
       "    </tr>\n",
       "    <tr>\n",
       "      <th>2</th>\n",
       "      <td>Annas Dream Full Quilt with 2 Shams</td>\n",
       "      <td>Very soft and comfortable and warmer than it l...</td>\n",
       "      <td>5</td>\n",
       "      <td>Very soft and comfortable and warmer than it l...</td>\n",
       "      <td>1</td>\n",
       "    </tr>\n",
       "    <tr>\n",
       "      <th>3</th>\n",
       "      <td>Stop Pacifier Sucking without tears with Thumb...</td>\n",
       "      <td>This is a product well worth the purchase.  I ...</td>\n",
       "      <td>5</td>\n",
       "      <td>This is a product well worth the purchase  I h...</td>\n",
       "      <td>1</td>\n",
       "    </tr>\n",
       "    <tr>\n",
       "      <th>4</th>\n",
       "      <td>Stop Pacifier Sucking without tears with Thumb...</td>\n",
       "      <td>All of my kids have cried non-stop when I trie...</td>\n",
       "      <td>5</td>\n",
       "      <td>All of my kids have cried nonstop when I tried...</td>\n",
       "      <td>1</td>\n",
       "    </tr>\n",
       "    <tr>\n",
       "      <th>5</th>\n",
       "      <td>Stop Pacifier Sucking without tears with Thumb...</td>\n",
       "      <td>When the Binky Fairy came to our house, we did...</td>\n",
       "      <td>5</td>\n",
       "      <td>When the Binky Fairy came to our house we didn...</td>\n",
       "      <td>1</td>\n",
       "    </tr>\n",
       "  </tbody>\n",
       "</table>\n",
       "</div>"
      ],
      "text/plain": [
       "                                                name  \\\n",
       "1                              Planetwise Wipe Pouch   \n",
       "2                Annas Dream Full Quilt with 2 Shams   \n",
       "3  Stop Pacifier Sucking without tears with Thumb...   \n",
       "4  Stop Pacifier Sucking without tears with Thumb...   \n",
       "5  Stop Pacifier Sucking without tears with Thumb...   \n",
       "\n",
       "                                              review  rating  \\\n",
       "1  it came early and was not disappointed. i love...       5   \n",
       "2  Very soft and comfortable and warmer than it l...       5   \n",
       "3  This is a product well worth the purchase.  I ...       5   \n",
       "4  All of my kids have cried non-stop when I trie...       5   \n",
       "5  When the Binky Fairy came to our house, we did...       5   \n",
       "\n",
       "                                        review_clean  sentiment  \n",
       "1  it came early and was not disappointed i love ...          1  \n",
       "2  Very soft and comfortable and warmer than it l...          1  \n",
       "3  This is a product well worth the purchase  I h...          1  \n",
       "4  All of my kids have cried nonstop when I tried...          1  \n",
       "5  When the Binky Fairy came to our house we didn...          1  "
      ]
     },
     "execution_count": 6,
     "metadata": {},
     "output_type": "execute_result"
    }
   ],
   "source": [
    "df = df.fillna({'review':''})\n",
    "df['review_clean'] = df['review'].apply(remove_punctuation)\n",
    "df = df[df['rating'] != 3]\n",
    "df['sentiment'] = df['rating'].apply(lambda rating : +1 if rating > 3 else -1)\n",
    "df.head()"
   ]
  },
  {
   "cell_type": "markdown",
   "metadata": {},
   "source": [
    "### Create train/test sets"
   ]
  },
  {
   "cell_type": "code",
   "execution_count": 9,
   "metadata": {},
   "outputs": [
    {
     "name": "stdout",
     "output_type": "stream",
     "text": [
      "Train len = 133416\n",
      "Test len = 33336\n"
     ]
    }
   ],
   "source": [
    "import json\n",
    "\n",
    "with open(\"module-2-assignment-train-idx.json\") as json_file:\n",
    "    train_idx = json.load(json_file)\n",
    "with open(\"module-2-assignment-test-idx.json\") as json_file:\n",
    "    test_idx = json.load(json_file)\n",
    "\n",
    "train_data = df.iloc[train_idx]\n",
    "test_data = df.iloc[test_idx]\n",
    "print(\"Train len = {}\".format(len(train_data)))\n",
    "print(\"Test len = {}\".format(len(test_data)))"
   ]
  },
  {
   "cell_type": "markdown",
   "metadata": {},
   "source": [
    "### Countvectorizer"
   ]
  },
  {
   "cell_type": "code",
   "execution_count": 10,
   "metadata": {},
   "outputs": [],
   "source": [
    "from sklearn.feature_extraction.text import CountVectorizer\n",
    "\n",
    "vectorizer = CountVectorizer(token_pattern=r'\\b\\w+\\b')\n",
    "     # Use this token pattern to keep single-letter words\n",
    "# First, learn vocabulary from the training data and assign columns to words\n",
    "# Then convert the training data into a sparse matrix\n",
    "train_matrix = vectorizer.fit_transform(train_data['review_clean'])\n",
    "# Second, convert the test data into a sparse matrix, using the same word-column mapping\n",
    "test_matrix = vectorizer.transform(test_data['review_clean'])"
   ]
  },
  {
   "cell_type": "code",
   "execution_count": 15,
   "metadata": {},
   "outputs": [
    {
     "name": "stdout",
     "output_type": "stream",
     "text": [
      "(133416, 121712)\n",
      "(33336, 121712)\n"
     ]
    }
   ],
   "source": [
    "# number of examples * total number of columns (distinct words)\n",
    "print(train_matrix.shape)\n",
    "print(test_matrix.shape)\n"
   ]
  },
  {
   "cell_type": "markdown",
   "metadata": {},
   "source": [
    "### Training Logistic Regression model"
   ]
  },
  {
   "cell_type": "code",
   "execution_count": 32,
   "metadata": {},
   "outputs": [
    {
     "name": "stderr",
     "output_type": "stream",
     "text": [
      "C:\\Users\\abido\\Anaconda3\\lib\\site-packages\\sklearn\\linear_model\\logistic.py:433: FutureWarning: Default solver will be changed to 'lbfgs' in 0.22. Specify a solver to silence this warning.\n",
      "  FutureWarning)\n",
      "C:\\Users\\abido\\Anaconda3\\lib\\site-packages\\sklearn\\svm\\base.py:922: ConvergenceWarning: Liblinear failed to converge, increase the number of iterations.\n",
      "  \"the number of iterations.\", ConvergenceWarning)\n"
     ]
    },
    {
     "data": {
      "text/plain": [
       "LogisticRegression(C=1.0, class_weight=None, dual=False, fit_intercept=True,\n",
       "          intercept_scaling=1, max_iter=100, multi_class='warn',\n",
       "          n_jobs=None, penalty='l2', random_state=None, solver='warn',\n",
       "          tol=0.0001, verbose=0, warm_start=False)"
      ]
     },
     "execution_count": 32,
     "metadata": {},
     "output_type": "execute_result"
    }
   ],
   "source": [
    "sentiment_model = LogisticRegression()\n",
    "sentiment_model.fit(train_matrix, train_data['sentiment'])"
   ]
  },
  {
   "cell_type": "code",
   "execution_count": 33,
   "metadata": {},
   "outputs": [
    {
     "name": "stdout",
     "output_type": "stream",
     "text": [
      "[1.37846807]\n",
      "85876\n"
     ]
    }
   ],
   "source": [
    "# Number of weights >= 0\n",
    "print(sentiment_model.intercept_)\n",
    "print(np.sum(sentiment_model.coef_ >= 0))"
   ]
  },
  {
   "cell_type": "markdown",
   "metadata": {},
   "source": [
    "### Sample test"
   ]
  },
  {
   "cell_type": "code",
   "execution_count": 34,
   "metadata": {},
   "outputs": [
    {
     "name": "stdout",
     "output_type": "stream",
     "text": [
      "                                                 name  \\\n",
      "59                          Our Baby Girl Memory Book   \n",
      "71  Wall Decor Removable Decal Sticker - Colorful ...   \n",
      "91  New Style Trailing Cherry Blossom Tree Decal R...   \n",
      "\n",
      "                                               review  rating  \\\n",
      "59  Absolutely love it and all of the Scripture in...       5   \n",
      "71  Would not purchase again or recommend. The dec...       2   \n",
      "91  Was so excited to get this product for my baby...       1   \n",
      "\n",
      "                                         review_clean  sentiment  \n",
      "59  Absolutely love it and all of the Scripture in...          1  \n",
      "71  Would not purchase again or recommend The deca...         -1  \n",
      "91  Was so excited to get this product for my baby...         -1  \n"
     ]
    }
   ],
   "source": [
    "sample_test_data = test_data[10:13]\n",
    "print(sample_test_data)"
   ]
  },
  {
   "cell_type": "code",
   "execution_count": 35,
   "metadata": {},
   "outputs": [
    {
     "name": "stdout",
     "output_type": "stream",
     "text": [
      "Absolutely love it and all of the Scripture in it.  I purchased the Baby Boy version for my grandson when he was born and my daughter-in-law was thrilled to receive the same book again.\n",
      "Would not purchase again or recommend. The decals were thick almost plastic like and were coming off the wall as I was applying them! The would NOT stick! Literally stayed stuck for about 5 minutes then started peeling off.\n"
     ]
    }
   ],
   "source": [
    "print(sample_test_data.iloc[0]['review'])\n",
    "print(sample_test_data.iloc[1]['review'])"
   ]
  },
  {
   "cell_type": "code",
   "execution_count": 47,
   "metadata": {},
   "outputs": [
    {
     "name": "stdout",
     "output_type": "stream",
     "text": [
      "Scores : [  5.61494955  -3.13452062 -10.41199092]\n",
      "Predictions : [ True False False]\n",
      "Probabilities : [9.96370230e-01 4.17055602e-02 3.00688444e-05]\n"
     ]
    }
   ],
   "source": [
    "### Make prediction on sample\n",
    "\n",
    "sample_test_matrix = vectorizer.transform(sample_test_data['review_clean'])\n",
    "scores = sentiment_model.decision_function(sample_test_matrix)\n",
    "print(\"Scores : {}\".format(scores))\n",
    "y_pred = scores > 0\n",
    "probs = 1 / (1 + np.exp(-scores))\n",
    "print(\"Predictions : {}\".format(y_pred))\n",
    "print(\"Probabilities : {}\".format(probs))"
   ]
  },
  {
   "cell_type": "code",
   "execution_count": 48,
   "metadata": {},
   "outputs": [
    {
     "name": "stdout",
     "output_type": "stream",
     "text": [
      "[ 1 -1 -1]\n",
      "[[3.62977024e-03 9.96370230e-01]\n",
      " [9.58294440e-01 4.17055602e-02]\n",
      " [9.99969931e-01 3.00688444e-05]]\n"
     ]
    }
   ],
   "source": [
    "# alternatively\n",
    "print(sentiment_model.predict(sample_test_matrix))\n",
    "print(sentiment_model.predict_proba(sample_test_matrix))"
   ]
  },
  {
   "cell_type": "markdown",
   "metadata": {},
   "source": [
    "##### Most positive 20 reviews"
   ]
  },
  {
   "cell_type": "code",
   "execution_count": 49,
   "metadata": {},
   "outputs": [
    {
     "data": {
      "text/html": [
       "<div>\n",
       "<style scoped>\n",
       "    .dataframe tbody tr th:only-of-type {\n",
       "        vertical-align: middle;\n",
       "    }\n",
       "\n",
       "    .dataframe tbody tr th {\n",
       "        vertical-align: top;\n",
       "    }\n",
       "\n",
       "    .dataframe thead th {\n",
       "        text-align: right;\n",
       "    }\n",
       "</style>\n",
       "<table border=\"1\" class=\"dataframe\">\n",
       "  <thead>\n",
       "    <tr style=\"text-align: right;\">\n",
       "      <th></th>\n",
       "      <th>name</th>\n",
       "      <th>review</th>\n",
       "      <th>rating</th>\n",
       "      <th>review_clean</th>\n",
       "      <th>sentiment</th>\n",
       "    </tr>\n",
       "  </thead>\n",
       "  <tbody>\n",
       "    <tr>\n",
       "      <th>147996</th>\n",
       "      <td>Baby Jogger City Mini GT Double Stroller, Shad...</td>\n",
       "      <td>We are well pleased with this stroller, and I ...</td>\n",
       "      <td>4</td>\n",
       "      <td>We are well pleased with this stroller and I w...</td>\n",
       "      <td>1</td>\n",
       "    </tr>\n",
       "    <tr>\n",
       "      <th>182089</th>\n",
       "      <td>Summer Infant Wide View Digital Color Video Mo...</td>\n",
       "      <td>I love this baby monitor.  I can compare this ...</td>\n",
       "      <td>5</td>\n",
       "      <td>I love this baby monitor  I can compare this o...</td>\n",
       "      <td>1</td>\n",
       "    </tr>\n",
       "    <tr>\n",
       "      <th>22586</th>\n",
       "      <td>Britax Decathlon Convertible Car Seat, Tiffany</td>\n",
       "      <td>I researched a few different seats to put in o...</td>\n",
       "      <td>4</td>\n",
       "      <td>I researched a few different seats to put in o...</td>\n",
       "      <td>1</td>\n",
       "    </tr>\n",
       "    <tr>\n",
       "      <th>165593</th>\n",
       "      <td>Ikea 36 Pcs Kalas Kids Plastic BPA Free Flatwa...</td>\n",
       "      <td>For the price this set is unbelievable- and tr...</td>\n",
       "      <td>5</td>\n",
       "      <td>For the price this set is unbelievable and tru...</td>\n",
       "      <td>1</td>\n",
       "    </tr>\n",
       "    <tr>\n",
       "      <th>114796</th>\n",
       "      <td>Fisher-Price Cradle 'N Swing,  My Little Snuga...</td>\n",
       "      <td>My husband and I cannot state enough how much ...</td>\n",
       "      <td>5</td>\n",
       "      <td>My husband and I cannot state enough how much ...</td>\n",
       "      <td>1</td>\n",
       "    </tr>\n",
       "    <tr>\n",
       "      <th>66059</th>\n",
       "      <td>Evenflo 6 Pack Classic Glass Bottle, 4-Ounce</td>\n",
       "      <td>It's always fun to write a review on those pro...</td>\n",
       "      <td>5</td>\n",
       "      <td>Its always fun to write a review on those prod...</td>\n",
       "      <td>1</td>\n",
       "    </tr>\n",
       "    <tr>\n",
       "      <th>147949</th>\n",
       "      <td>Baby Jogger City Mini GT Single Stroller, Shad...</td>\n",
       "      <td>Amazing, Love, Love, Love it !!! All 5 STARS a...</td>\n",
       "      <td>5</td>\n",
       "      <td>Amazing Love Love Love it  All 5 STARS all the...</td>\n",
       "      <td>1</td>\n",
       "    </tr>\n",
       "    <tr>\n",
       "      <th>97325</th>\n",
       "      <td>Freemie Hands-Free Concealable Breast Pump Col...</td>\n",
       "      <td>I absolutely love this product.  I work as a C...</td>\n",
       "      <td>5</td>\n",
       "      <td>I absolutely love this product  I work as a Cu...</td>\n",
       "      <td>1</td>\n",
       "    </tr>\n",
       "    <tr>\n",
       "      <th>168697</th>\n",
       "      <td>Graco FastAction Fold Jogger Click Connect Str...</td>\n",
       "      <td>Graco's FastAction Jogging Stroller definitely...</td>\n",
       "      <td>5</td>\n",
       "      <td>Gracos FastAction Jogging Stroller definitely ...</td>\n",
       "      <td>1</td>\n",
       "    </tr>\n",
       "    <tr>\n",
       "      <th>80155</th>\n",
       "      <td>Simple Wishes Hands-Free Breastpump Bra, Pink,...</td>\n",
       "      <td>I just tried this hands free breastpump bra, a...</td>\n",
       "      <td>5</td>\n",
       "      <td>I just tried this hands free breastpump bra an...</td>\n",
       "      <td>1</td>\n",
       "    </tr>\n",
       "    <tr>\n",
       "      <th>52631</th>\n",
       "      <td>Evenflo X Sport Plus Convenience Stroller - Ch...</td>\n",
       "      <td>After seeing this in Parent's Magazine and rea...</td>\n",
       "      <td>5</td>\n",
       "      <td>After seeing this in Parents Magazine and read...</td>\n",
       "      <td>1</td>\n",
       "    </tr>\n",
       "    <tr>\n",
       "      <th>168081</th>\n",
       "      <td>Buttons Cloth Diaper Cover - One Size - 8 Colo...</td>\n",
       "      <td>We are big Best Bottoms fans here, but I wante...</td>\n",
       "      <td>4</td>\n",
       "      <td>We are big Best Bottoms fans here but I wanted...</td>\n",
       "      <td>1</td>\n",
       "    </tr>\n",
       "    <tr>\n",
       "      <th>180646</th>\n",
       "      <td>Mamas &amp;amp; Papas 2014 Urbo2 Stroller - Black</td>\n",
       "      <td>After much research I purchased an Urbo2. It's...</td>\n",
       "      <td>4</td>\n",
       "      <td>After much research I purchased an Urbo2 Its e...</td>\n",
       "      <td>1</td>\n",
       "    </tr>\n",
       "    <tr>\n",
       "      <th>119182</th>\n",
       "      <td>Roan Rocco Classic Pram Stroller 2-in-1 with B...</td>\n",
       "      <td>Great Pram Rocco!!!!!!I bought this pram from ...</td>\n",
       "      <td>5</td>\n",
       "      <td>Great Pram RoccoI bought this pram from Europe...</td>\n",
       "      <td>1</td>\n",
       "    </tr>\n",
       "    <tr>\n",
       "      <th>50315</th>\n",
       "      <td>P'Kolino Silly Soft Seating in Tias, Green</td>\n",
       "      <td>I've purchased both the P'Kolino Little Reader...</td>\n",
       "      <td>4</td>\n",
       "      <td>Ive purchased both the PKolino Little Reader C...</td>\n",
       "      <td>1</td>\n",
       "    </tr>\n",
       "    <tr>\n",
       "      <th>137034</th>\n",
       "      <td>Graco Pack 'n Play Element Playard - Flint</td>\n",
       "      <td>My husband and I assembled this Pack n' Play l...</td>\n",
       "      <td>4</td>\n",
       "      <td>My husband and I assembled this Pack n Play la...</td>\n",
       "      <td>1</td>\n",
       "    </tr>\n",
       "    <tr>\n",
       "      <th>140816</th>\n",
       "      <td>Diono RadianRXT Convertible Car Seat, Plum</td>\n",
       "      <td>I bought this seat for my tall (38in) and thin...</td>\n",
       "      <td>5</td>\n",
       "      <td>I bought this seat for my tall 38in and thin 2...</td>\n",
       "      <td>1</td>\n",
       "    </tr>\n",
       "    <tr>\n",
       "      <th>133651</th>\n",
       "      <td>Britax 2012 B-Agile Stroller, Red</td>\n",
       "      <td>[I got this stroller for my daughter prior to ...</td>\n",
       "      <td>4</td>\n",
       "      <td>I got this stroller for my daughter prior to t...</td>\n",
       "      <td>1</td>\n",
       "    </tr>\n",
       "    <tr>\n",
       "      <th>87017</th>\n",
       "      <td>Baby Einstein Around The World Discovery Center</td>\n",
       "      <td>I am so HAPPY I brought this item for my 7 mon...</td>\n",
       "      <td>5</td>\n",
       "      <td>I am so HAPPY I brought this item for my 7 mon...</td>\n",
       "      <td>1</td>\n",
       "    </tr>\n",
       "    <tr>\n",
       "      <th>100166</th>\n",
       "      <td>Infantino Wrap and Tie Baby Carrier, Black Blu...</td>\n",
       "      <td>I bought this carrier when my daughter was abo...</td>\n",
       "      <td>5</td>\n",
       "      <td>I bought this carrier when my daughter was abo...</td>\n",
       "      <td>1</td>\n",
       "    </tr>\n",
       "  </tbody>\n",
       "</table>\n",
       "</div>"
      ],
      "text/plain": [
       "                                                     name  \\\n",
       "147996  Baby Jogger City Mini GT Double Stroller, Shad...   \n",
       "182089  Summer Infant Wide View Digital Color Video Mo...   \n",
       "22586      Britax Decathlon Convertible Car Seat, Tiffany   \n",
       "165593  Ikea 36 Pcs Kalas Kids Plastic BPA Free Flatwa...   \n",
       "114796  Fisher-Price Cradle 'N Swing,  My Little Snuga...   \n",
       "66059        Evenflo 6 Pack Classic Glass Bottle, 4-Ounce   \n",
       "147949  Baby Jogger City Mini GT Single Stroller, Shad...   \n",
       "97325   Freemie Hands-Free Concealable Breast Pump Col...   \n",
       "168697  Graco FastAction Fold Jogger Click Connect Str...   \n",
       "80155   Simple Wishes Hands-Free Breastpump Bra, Pink,...   \n",
       "52631   Evenflo X Sport Plus Convenience Stroller - Ch...   \n",
       "168081  Buttons Cloth Diaper Cover - One Size - 8 Colo...   \n",
       "180646      Mamas &amp; Papas 2014 Urbo2 Stroller - Black   \n",
       "119182  Roan Rocco Classic Pram Stroller 2-in-1 with B...   \n",
       "50315          P'Kolino Silly Soft Seating in Tias, Green   \n",
       "137034         Graco Pack 'n Play Element Playard - Flint   \n",
       "140816         Diono RadianRXT Convertible Car Seat, Plum   \n",
       "133651                  Britax 2012 B-Agile Stroller, Red   \n",
       "87017     Baby Einstein Around The World Discovery Center   \n",
       "100166  Infantino Wrap and Tie Baby Carrier, Black Blu...   \n",
       "\n",
       "                                                   review  rating  \\\n",
       "147996  We are well pleased with this stroller, and I ...       4   \n",
       "182089  I love this baby monitor.  I can compare this ...       5   \n",
       "22586   I researched a few different seats to put in o...       4   \n",
       "165593  For the price this set is unbelievable- and tr...       5   \n",
       "114796  My husband and I cannot state enough how much ...       5   \n",
       "66059   It's always fun to write a review on those pro...       5   \n",
       "147949  Amazing, Love, Love, Love it !!! All 5 STARS a...       5   \n",
       "97325   I absolutely love this product.  I work as a C...       5   \n",
       "168697  Graco's FastAction Jogging Stroller definitely...       5   \n",
       "80155   I just tried this hands free breastpump bra, a...       5   \n",
       "52631   After seeing this in Parent's Magazine and rea...       5   \n",
       "168081  We are big Best Bottoms fans here, but I wante...       4   \n",
       "180646  After much research I purchased an Urbo2. It's...       4   \n",
       "119182  Great Pram Rocco!!!!!!I bought this pram from ...       5   \n",
       "50315   I've purchased both the P'Kolino Little Reader...       4   \n",
       "137034  My husband and I assembled this Pack n' Play l...       4   \n",
       "140816  I bought this seat for my tall (38in) and thin...       5   \n",
       "133651  [I got this stroller for my daughter prior to ...       4   \n",
       "87017   I am so HAPPY I brought this item for my 7 mon...       5   \n",
       "100166  I bought this carrier when my daughter was abo...       5   \n",
       "\n",
       "                                             review_clean  sentiment  \n",
       "147996  We are well pleased with this stroller and I w...          1  \n",
       "182089  I love this baby monitor  I can compare this o...          1  \n",
       "22586   I researched a few different seats to put in o...          1  \n",
       "165593  For the price this set is unbelievable and tru...          1  \n",
       "114796  My husband and I cannot state enough how much ...          1  \n",
       "66059   Its always fun to write a review on those prod...          1  \n",
       "147949  Amazing Love Love Love it  All 5 STARS all the...          1  \n",
       "97325   I absolutely love this product  I work as a Cu...          1  \n",
       "168697  Gracos FastAction Jogging Stroller definitely ...          1  \n",
       "80155   I just tried this hands free breastpump bra an...          1  \n",
       "52631   After seeing this in Parents Magazine and read...          1  \n",
       "168081  We are big Best Bottoms fans here but I wanted...          1  \n",
       "180646  After much research I purchased an Urbo2 Its e...          1  \n",
       "119182  Great Pram RoccoI bought this pram from Europe...          1  \n",
       "50315   Ive purchased both the PKolino Little Reader C...          1  \n",
       "137034  My husband and I assembled this Pack n Play la...          1  \n",
       "140816  I bought this seat for my tall 38in and thin 2...          1  \n",
       "133651  I got this stroller for my daughter prior to t...          1  \n",
       "87017   I am so HAPPY I brought this item for my 7 mon...          1  \n",
       "100166  I bought this carrier when my daughter was abo...          1  "
      ]
     },
     "execution_count": 49,
     "metadata": {},
     "output_type": "execute_result"
    }
   ],
   "source": [
    "all_scores = sentiment_model.decision_function(test_matrix)\n",
    "top20 = sorted(range(len(all_scores)), key=lambda i: all_scores[i])[-20:]\n",
    "test_data.iloc[top20]"
   ]
  },
  {
   "cell_type": "markdown",
   "metadata": {},
   "source": [
    "#### Most negative 20 reviews"
   ]
  },
  {
   "cell_type": "code",
   "execution_count": 50,
   "metadata": {},
   "outputs": [
    {
     "data": {
      "text/html": [
       "<div>\n",
       "<style scoped>\n",
       "    .dataframe tbody tr th:only-of-type {\n",
       "        vertical-align: middle;\n",
       "    }\n",
       "\n",
       "    .dataframe tbody tr th {\n",
       "        vertical-align: top;\n",
       "    }\n",
       "\n",
       "    .dataframe thead th {\n",
       "        text-align: right;\n",
       "    }\n",
       "</style>\n",
       "<table border=\"1\" class=\"dataframe\">\n",
       "  <thead>\n",
       "    <tr style=\"text-align: right;\">\n",
       "      <th></th>\n",
       "      <th>name</th>\n",
       "      <th>review</th>\n",
       "      <th>rating</th>\n",
       "      <th>review_clean</th>\n",
       "      <th>sentiment</th>\n",
       "    </tr>\n",
       "  </thead>\n",
       "  <tbody>\n",
       "    <tr>\n",
       "      <th>16042</th>\n",
       "      <td>Fisher-Price Ocean Wonders Aquarium Bouncer</td>\n",
       "      <td>We have not had ANY luck with Fisher-Price pro...</td>\n",
       "      <td>2</td>\n",
       "      <td>We have not had ANY luck with FisherPrice prod...</td>\n",
       "      <td>-1</td>\n",
       "    </tr>\n",
       "    <tr>\n",
       "      <th>120209</th>\n",
       "      <td>Levana Safe N'See Digital Video Baby Monitor w...</td>\n",
       "      <td>This is the first review I have ever written o...</td>\n",
       "      <td>1</td>\n",
       "      <td>This is the first review I have ever written o...</td>\n",
       "      <td>-1</td>\n",
       "    </tr>\n",
       "    <tr>\n",
       "      <th>77072</th>\n",
       "      <td>Safety 1st Exchangeable Tip 3 in 1 Thermometer</td>\n",
       "      <td>I thought it sounded great to have different t...</td>\n",
       "      <td>1</td>\n",
       "      <td>I thought it sounded great to have different t...</td>\n",
       "      <td>-1</td>\n",
       "    </tr>\n",
       "    <tr>\n",
       "      <th>48694</th>\n",
       "      <td>Adiri BPA Free Natural Nurser Ultimate Bottle ...</td>\n",
       "      <td>I will try to write an objective review of the...</td>\n",
       "      <td>2</td>\n",
       "      <td>I will try to write an objective review of the...</td>\n",
       "      <td>-1</td>\n",
       "    </tr>\n",
       "    <tr>\n",
       "      <th>155287</th>\n",
       "      <td>VTech Communications Safe &amp;amp; Sounds Full Co...</td>\n",
       "      <td>This is my second video monitoring system, the...</td>\n",
       "      <td>1</td>\n",
       "      <td>This is my second video monitoring system the ...</td>\n",
       "      <td>-1</td>\n",
       "    </tr>\n",
       "    <tr>\n",
       "      <th>94560</th>\n",
       "      <td>The First Years True Choice P400 Premium Digit...</td>\n",
       "      <td>Note: we never installed batteries in these un...</td>\n",
       "      <td>1</td>\n",
       "      <td>Note we never installed batteries in these uni...</td>\n",
       "      <td>-1</td>\n",
       "    </tr>\n",
       "    <tr>\n",
       "      <th>53207</th>\n",
       "      <td>Safety 1st High-Def Digital Monitor</td>\n",
       "      <td>We bought this baby monitor to replace a diffe...</td>\n",
       "      <td>1</td>\n",
       "      <td>We bought this baby monitor to replace a diffe...</td>\n",
       "      <td>-1</td>\n",
       "    </tr>\n",
       "    <tr>\n",
       "      <th>81332</th>\n",
       "      <td>Cloth Diaper Sprayer--styles may vary</td>\n",
       "      <td>I bought this sprayer out of desperation durin...</td>\n",
       "      <td>1</td>\n",
       "      <td>I bought this sprayer out of desperation durin...</td>\n",
       "      <td>-1</td>\n",
       "    </tr>\n",
       "    <tr>\n",
       "      <th>113995</th>\n",
       "      <td>Motorola Digital Video Baby Monitor with Room ...</td>\n",
       "      <td>DO NOT BUY THIS BABY MONITOR!I purchased this ...</td>\n",
       "      <td>1</td>\n",
       "      <td>DO NOT BUY THIS BABY MONITORI purchased this m...</td>\n",
       "      <td>-1</td>\n",
       "    </tr>\n",
       "    <tr>\n",
       "      <th>10677</th>\n",
       "      <td>Philips AVENT Newborn Starter Set</td>\n",
       "      <td>It's 3am in the morning and needless to say, t...</td>\n",
       "      <td>1</td>\n",
       "      <td>Its 3am in the morning and needless to say thi...</td>\n",
       "      <td>-1</td>\n",
       "    </tr>\n",
       "    <tr>\n",
       "      <th>9915</th>\n",
       "      <td>Cosco Alpha Omega Elite Convertible Car Seat</td>\n",
       "      <td>I bought this car seat after both seeing  the ...</td>\n",
       "      <td>1</td>\n",
       "      <td>I bought this car seat after both seeing  the ...</td>\n",
       "      <td>-1</td>\n",
       "    </tr>\n",
       "    <tr>\n",
       "      <th>59546</th>\n",
       "      <td>Ellaroo Mei Tai Baby Carrier - Hershey</td>\n",
       "      <td>This is basically an overpriced piece of fabri...</td>\n",
       "      <td>1</td>\n",
       "      <td>This is basically an overpriced piece of fabri...</td>\n",
       "      <td>-1</td>\n",
       "    </tr>\n",
       "    <tr>\n",
       "      <th>75994</th>\n",
       "      <td>Peg-Perego Tatamia High Chair, White Latte</td>\n",
       "      <td>I can see why there are so many good reviews o...</td>\n",
       "      <td>2</td>\n",
       "      <td>I can see why there are so many good reviews o...</td>\n",
       "      <td>-1</td>\n",
       "    </tr>\n",
       "    <tr>\n",
       "      <th>172090</th>\n",
       "      <td>Belkin WeMo Wi-Fi Baby Monitor for Apple iPhon...</td>\n",
       "      <td>I read so many reviews saying the Belkin WiFi ...</td>\n",
       "      <td>2</td>\n",
       "      <td>I read so many reviews saying the Belkin WiFi ...</td>\n",
       "      <td>-1</td>\n",
       "    </tr>\n",
       "    <tr>\n",
       "      <th>40079</th>\n",
       "      <td>Chicco Cortina KeyFit 30 Travel System in Adve...</td>\n",
       "      <td>My wife and I have used this system in two car...</td>\n",
       "      <td>1</td>\n",
       "      <td>My wife and I have used this system in two car...</td>\n",
       "      <td>-1</td>\n",
       "    </tr>\n",
       "    <tr>\n",
       "      <th>149987</th>\n",
       "      <td>NUK Cook-n-Blend Baby Food Maker</td>\n",
       "      <td>It thought this would be great. I did a lot of...</td>\n",
       "      <td>1</td>\n",
       "      <td>It thought this would be great I did a lot of ...</td>\n",
       "      <td>-1</td>\n",
       "    </tr>\n",
       "    <tr>\n",
       "      <th>154878</th>\n",
       "      <td>VTech Communications Safe &amp;amp; Sound Digital ...</td>\n",
       "      <td>First, the distance on these are no more than ...</td>\n",
       "      <td>1</td>\n",
       "      <td>First the distance on these are no more than 7...</td>\n",
       "      <td>-1</td>\n",
       "    </tr>\n",
       "    <tr>\n",
       "      <th>1116</th>\n",
       "      <td>Safety 1st Deluxe 4-in-1 Bath Station</td>\n",
       "      <td>This item is junk.  I originally chose it beca...</td>\n",
       "      <td>1</td>\n",
       "      <td>This item is junk  I originally chose it becau...</td>\n",
       "      <td>-1</td>\n",
       "    </tr>\n",
       "    <tr>\n",
       "      <th>83234</th>\n",
       "      <td>Thirsties Hemp Inserts 2 Pack, Small 6-18 Lbs</td>\n",
       "      <td>My Experience: Babykicks Inserts failure vs RA...</td>\n",
       "      <td>5</td>\n",
       "      <td>My Experience Babykicks Inserts failure vs RAV...</td>\n",
       "      <td>1</td>\n",
       "    </tr>\n",
       "    <tr>\n",
       "      <th>31741</th>\n",
       "      <td>Regalo My Cot Portable Bed, Royal Blue</td>\n",
       "      <td>If I could give this product zero stars I woul...</td>\n",
       "      <td>1</td>\n",
       "      <td>If I could give this product zero stars I woul...</td>\n",
       "      <td>-1</td>\n",
       "    </tr>\n",
       "  </tbody>\n",
       "</table>\n",
       "</div>"
      ],
      "text/plain": [
       "                                                     name  \\\n",
       "16042         Fisher-Price Ocean Wonders Aquarium Bouncer   \n",
       "120209  Levana Safe N'See Digital Video Baby Monitor w...   \n",
       "77072      Safety 1st Exchangeable Tip 3 in 1 Thermometer   \n",
       "48694   Adiri BPA Free Natural Nurser Ultimate Bottle ...   \n",
       "155287  VTech Communications Safe &amp; Sounds Full Co...   \n",
       "94560   The First Years True Choice P400 Premium Digit...   \n",
       "53207                 Safety 1st High-Def Digital Monitor   \n",
       "81332               Cloth Diaper Sprayer--styles may vary   \n",
       "113995  Motorola Digital Video Baby Monitor with Room ...   \n",
       "10677                   Philips AVENT Newborn Starter Set   \n",
       "9915         Cosco Alpha Omega Elite Convertible Car Seat   \n",
       "59546              Ellaroo Mei Tai Baby Carrier - Hershey   \n",
       "75994          Peg-Perego Tatamia High Chair, White Latte   \n",
       "172090  Belkin WeMo Wi-Fi Baby Monitor for Apple iPhon...   \n",
       "40079   Chicco Cortina KeyFit 30 Travel System in Adve...   \n",
       "149987                   NUK Cook-n-Blend Baby Food Maker   \n",
       "154878  VTech Communications Safe &amp; Sound Digital ...   \n",
       "1116                Safety 1st Deluxe 4-in-1 Bath Station   \n",
       "83234       Thirsties Hemp Inserts 2 Pack, Small 6-18 Lbs   \n",
       "31741              Regalo My Cot Portable Bed, Royal Blue   \n",
       "\n",
       "                                                   review  rating  \\\n",
       "16042   We have not had ANY luck with Fisher-Price pro...       2   \n",
       "120209  This is the first review I have ever written o...       1   \n",
       "77072   I thought it sounded great to have different t...       1   \n",
       "48694   I will try to write an objective review of the...       2   \n",
       "155287  This is my second video monitoring system, the...       1   \n",
       "94560   Note: we never installed batteries in these un...       1   \n",
       "53207   We bought this baby monitor to replace a diffe...       1   \n",
       "81332   I bought this sprayer out of desperation durin...       1   \n",
       "113995  DO NOT BUY THIS BABY MONITOR!I purchased this ...       1   \n",
       "10677   It's 3am in the morning and needless to say, t...       1   \n",
       "9915    I bought this car seat after both seeing  the ...       1   \n",
       "59546   This is basically an overpriced piece of fabri...       1   \n",
       "75994   I can see why there are so many good reviews o...       2   \n",
       "172090  I read so many reviews saying the Belkin WiFi ...       2   \n",
       "40079   My wife and I have used this system in two car...       1   \n",
       "149987  It thought this would be great. I did a lot of...       1   \n",
       "154878  First, the distance on these are no more than ...       1   \n",
       "1116    This item is junk.  I originally chose it beca...       1   \n",
       "83234   My Experience: Babykicks Inserts failure vs RA...       5   \n",
       "31741   If I could give this product zero stars I woul...       1   \n",
       "\n",
       "                                             review_clean  sentiment  \n",
       "16042   We have not had ANY luck with FisherPrice prod...         -1  \n",
       "120209  This is the first review I have ever written o...         -1  \n",
       "77072   I thought it sounded great to have different t...         -1  \n",
       "48694   I will try to write an objective review of the...         -1  \n",
       "155287  This is my second video monitoring system the ...         -1  \n",
       "94560   Note we never installed batteries in these uni...         -1  \n",
       "53207   We bought this baby monitor to replace a diffe...         -1  \n",
       "81332   I bought this sprayer out of desperation durin...         -1  \n",
       "113995  DO NOT BUY THIS BABY MONITORI purchased this m...         -1  \n",
       "10677   Its 3am in the morning and needless to say thi...         -1  \n",
       "9915    I bought this car seat after both seeing  the ...         -1  \n",
       "59546   This is basically an overpriced piece of fabri...         -1  \n",
       "75994   I can see why there are so many good reviews o...         -1  \n",
       "172090  I read so many reviews saying the Belkin WiFi ...         -1  \n",
       "40079   My wife and I have used this system in two car...         -1  \n",
       "149987  It thought this would be great I did a lot of ...         -1  \n",
       "154878  First the distance on these are no more than 7...         -1  \n",
       "1116    This item is junk  I originally chose it becau...         -1  \n",
       "83234   My Experience Babykicks Inserts failure vs RAV...          1  \n",
       "31741   If I could give this product zero stars I woul...         -1  "
      ]
     },
     "execution_count": 50,
     "metadata": {},
     "output_type": "execute_result"
    }
   ],
   "source": [
    "bottom20 = sorted(range(len(all_scores)), key=lambda i: all_scores[i])[:20]\n",
    "test_data.iloc[bottom20]"
   ]
  },
  {
   "cell_type": "markdown",
   "metadata": {},
   "source": [
    "#### Accuracy"
   ]
  },
  {
   "cell_type": "code",
   "execution_count": 57,
   "metadata": {},
   "outputs": [
    {
     "data": {
      "text/plain": [
       "0.818454523638109"
      ]
     },
     "execution_count": 57,
     "metadata": {},
     "output_type": "execute_result"
    }
   ],
   "source": [
    "y_pred = all_scores > 0\n",
    "accuracy = np.sum(np.equal(y_pred, test_data['sentiment'])) / y_pred.shape[0]\n",
    "accuracy"
   ]
  },
  {
   "cell_type": "code",
   "execution_count": 59,
   "metadata": {},
   "outputs": [
    {
     "data": {
      "text/plain": [
       "0.9320254379649628"
      ]
     },
     "execution_count": 59,
     "metadata": {},
     "output_type": "execute_result"
    }
   ],
   "source": [
    "# alternatively\n",
    "sentiment_model.score(test_matrix,test_data['sentiment'])"
   ]
  },
  {
   "cell_type": "markdown",
   "metadata": {},
   "source": [
    "## Training with important words only"
   ]
  },
  {
   "cell_type": "code",
   "execution_count": 60,
   "metadata": {},
   "outputs": [],
   "source": [
    "significant_words = ['love', 'great', 'easy', 'old', 'little', 'perfect', 'loves', \n",
    "      'well', 'able', 'car', 'broke', 'less', 'even', 'waste', 'disappointed', \n",
    "      'work', 'product', 'money', 'would', 'return']"
   ]
  },
  {
   "cell_type": "code",
   "execution_count": 61,
   "metadata": {},
   "outputs": [
    {
     "name": "stderr",
     "output_type": "stream",
     "text": [
      "C:\\Users\\abido\\Anaconda3\\lib\\site-packages\\sklearn\\linear_model\\logistic.py:433: FutureWarning: Default solver will be changed to 'lbfgs' in 0.22. Specify a solver to silence this warning.\n",
      "  FutureWarning)\n"
     ]
    },
    {
     "data": {
      "text/plain": [
       "LogisticRegression(C=1.0, class_weight=None, dual=False, fit_intercept=True,\n",
       "          intercept_scaling=1, max_iter=100, multi_class='warn',\n",
       "          n_jobs=None, penalty='l2', random_state=None, solver='warn',\n",
       "          tol=0.0001, verbose=0, warm_start=False)"
      ]
     },
     "execution_count": 61,
     "metadata": {},
     "output_type": "execute_result"
    }
   ],
   "source": [
    "vectorizer_word_subset = CountVectorizer(vocabulary=significant_words) # limit to 20 words\n",
    "train_matrix_word_subset = vectorizer_word_subset.fit_transform(train_data['review_clean'])\n",
    "test_matrix_word_subset = vectorizer_word_subset.transform(test_data['review_clean'])\n",
    "\n",
    "simple_model = LogisticRegression()\n",
    "simple_model.fit(train_matrix_word_subset, train_data['sentiment'])"
   ]
  },
  {
   "cell_type": "markdown",
   "metadata": {},
   "source": [
    "#### Coefficient table"
   ]
  },
  {
   "cell_type": "code",
   "execution_count": 63,
   "metadata": {},
   "outputs": [
    {
     "name": "stdout",
     "output_type": "stream",
     "text": [
      "10\n"
     ]
    },
    {
     "data": {
      "text/html": [
       "<div>\n",
       "<style scoped>\n",
       "    .dataframe tbody tr th:only-of-type {\n",
       "        vertical-align: middle;\n",
       "    }\n",
       "\n",
       "    .dataframe tbody tr th {\n",
       "        vertical-align: top;\n",
       "    }\n",
       "\n",
       "    .dataframe thead th {\n",
       "        text-align: right;\n",
       "    }\n",
       "</style>\n",
       "<table border=\"1\" class=\"dataframe\">\n",
       "  <thead>\n",
       "    <tr style=\"text-align: right;\">\n",
       "      <th></th>\n",
       "      <th>word</th>\n",
       "      <th>coefficient</th>\n",
       "    </tr>\n",
       "  </thead>\n",
       "  <tbody>\n",
       "    <tr>\n",
       "      <th>14</th>\n",
       "      <td>disappointed</td>\n",
       "      <td>-2.348298</td>\n",
       "    </tr>\n",
       "    <tr>\n",
       "      <th>19</th>\n",
       "      <td>return</td>\n",
       "      <td>-2.109331</td>\n",
       "    </tr>\n",
       "    <tr>\n",
       "      <th>13</th>\n",
       "      <td>waste</td>\n",
       "      <td>-2.033699</td>\n",
       "    </tr>\n",
       "    <tr>\n",
       "      <th>10</th>\n",
       "      <td>broke</td>\n",
       "      <td>-1.651576</td>\n",
       "    </tr>\n",
       "    <tr>\n",
       "      <th>17</th>\n",
       "      <td>money</td>\n",
       "      <td>-0.898031</td>\n",
       "    </tr>\n",
       "    <tr>\n",
       "      <th>15</th>\n",
       "      <td>work</td>\n",
       "      <td>-0.621169</td>\n",
       "    </tr>\n",
       "    <tr>\n",
       "      <th>12</th>\n",
       "      <td>even</td>\n",
       "      <td>-0.511380</td>\n",
       "    </tr>\n",
       "    <tr>\n",
       "      <th>18</th>\n",
       "      <td>would</td>\n",
       "      <td>-0.362167</td>\n",
       "    </tr>\n",
       "    <tr>\n",
       "      <th>16</th>\n",
       "      <td>product</td>\n",
       "      <td>-0.320556</td>\n",
       "    </tr>\n",
       "    <tr>\n",
       "      <th>11</th>\n",
       "      <td>less</td>\n",
       "      <td>-0.209563</td>\n",
       "    </tr>\n",
       "    <tr>\n",
       "      <th>9</th>\n",
       "      <td>car</td>\n",
       "      <td>0.058855</td>\n",
       "    </tr>\n",
       "    <tr>\n",
       "      <th>3</th>\n",
       "      <td>old</td>\n",
       "      <td>0.085513</td>\n",
       "    </tr>\n",
       "    <tr>\n",
       "      <th>8</th>\n",
       "      <td>able</td>\n",
       "      <td>0.190909</td>\n",
       "    </tr>\n",
       "    <tr>\n",
       "      <th>7</th>\n",
       "      <td>well</td>\n",
       "      <td>0.503760</td>\n",
       "    </tr>\n",
       "    <tr>\n",
       "      <th>4</th>\n",
       "      <td>little</td>\n",
       "      <td>0.520186</td>\n",
       "    </tr>\n",
       "    <tr>\n",
       "      <th>1</th>\n",
       "      <td>great</td>\n",
       "      <td>0.944000</td>\n",
       "    </tr>\n",
       "    <tr>\n",
       "      <th>2</th>\n",
       "      <td>easy</td>\n",
       "      <td>1.192538</td>\n",
       "    </tr>\n",
       "    <tr>\n",
       "      <th>0</th>\n",
       "      <td>love</td>\n",
       "      <td>1.363690</td>\n",
       "    </tr>\n",
       "    <tr>\n",
       "      <th>5</th>\n",
       "      <td>perfect</td>\n",
       "      <td>1.509812</td>\n",
       "    </tr>\n",
       "    <tr>\n",
       "      <th>6</th>\n",
       "      <td>loves</td>\n",
       "      <td>1.673074</td>\n",
       "    </tr>\n",
       "  </tbody>\n",
       "</table>\n",
       "</div>"
      ],
      "text/plain": [
       "            word  coefficient\n",
       "14  disappointed    -2.348298\n",
       "19        return    -2.109331\n",
       "13         waste    -2.033699\n",
       "10         broke    -1.651576\n",
       "17         money    -0.898031\n",
       "15          work    -0.621169\n",
       "12          even    -0.511380\n",
       "18         would    -0.362167\n",
       "16       product    -0.320556\n",
       "11          less    -0.209563\n",
       "9            car     0.058855\n",
       "3            old     0.085513\n",
       "8           able     0.190909\n",
       "7           well     0.503760\n",
       "4         little     0.520186\n",
       "1          great     0.944000\n",
       "2           easy     1.192538\n",
       "0           love     1.363690\n",
       "5        perfect     1.509812\n",
       "6          loves     1.673074"
      ]
     },
     "execution_count": 63,
     "metadata": {},
     "output_type": "execute_result"
    }
   ],
   "source": [
    "simple_model_coef_table = pd.DataFrame({'word':significant_words,\n",
    "                                         'coefficient':simple_model.coef_.flatten()})\n",
    "simple_model_coef_table = simple_model_coef_table.sort_values('coefficient')\n",
    "print(np.sum(simple_model_coef_table['coefficient']>0))\n",
    "simple_model_coef_table"
   ]
  },
  {
   "cell_type": "markdown",
   "metadata": {},
   "source": [
    "##### Accuracy"
   ]
  },
  {
   "cell_type": "code",
   "execution_count": 64,
   "metadata": {},
   "outputs": [
    {
     "name": "stdout",
     "output_type": "stream",
     "text": [
      "(33336, 20)\n"
     ]
    }
   ],
   "source": [
    "print(test_matrix_word_subset.shape)"
   ]
  },
  {
   "cell_type": "code",
   "execution_count": 66,
   "metadata": {},
   "outputs": [
    {
     "data": {
      "text/plain": [
       "0.8287736981041517"
      ]
     },
     "execution_count": 66,
     "metadata": {},
     "output_type": "execute_result"
    }
   ],
   "source": [
    "all_scores_simple = simple_model.decision_function(test_matrix_word_subset)\n",
    "y_pred_simple = all_scores_simple > 0\n",
    "accuracy_simple = np.sum(np.equal(y_pred_simple, test_data['sentiment'])) / y_pred.shape[0]\n",
    "accuracy_simple"
   ]
  },
  {
   "cell_type": "code",
   "execution_count": 67,
   "metadata": {},
   "outputs": [
    {
     "data": {
      "text/plain": [
       "0.8693604511639069"
      ]
     },
     "execution_count": 67,
     "metadata": {},
     "output_type": "execute_result"
    }
   ],
   "source": [
    "simple_model.score(test_matrix_word_subset, test_data['sentiment'])"
   ]
  }
 ],
 "metadata": {
  "kernelspec": {
   "display_name": "Python 3",
   "language": "python",
   "name": "python3"
  },
  "language_info": {
   "codemirror_mode": {
    "name": "ipython",
    "version": 3
   },
   "file_extension": ".py",
   "mimetype": "text/x-python",
   "name": "python",
   "nbconvert_exporter": "python",
   "pygments_lexer": "ipython3",
   "version": "3.6.5"
  }
 },
 "nbformat": 4,
 "nbformat_minor": 2
}
