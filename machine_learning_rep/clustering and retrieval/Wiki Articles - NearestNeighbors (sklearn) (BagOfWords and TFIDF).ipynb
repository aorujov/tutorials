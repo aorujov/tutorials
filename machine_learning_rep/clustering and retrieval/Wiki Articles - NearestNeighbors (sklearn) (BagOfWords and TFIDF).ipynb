{
 "cells": [
  {
   "cell_type": "markdown",
   "metadata": {},
   "source": [
    "# Wikipedia Articles - Finding NNs of articles\n",
    "\n",
    "### Algorithm:\n",
    "* NearestNeighbors from sklearn\n",
    "\n",
    "\n",
    "### Models used:\n",
    "* Model 1 - Bag of words document representation (euclidean distance)\n",
    "* Model 2 - TF-IDF document representation (euclidean distance)\n",
    "* Model 3 - TF-IDF document representation (cosine similarity)"
   ]
  },
  {
   "cell_type": "code",
   "execution_count": 1,
   "metadata": {},
   "outputs": [],
   "source": [
    "import pandas as pd                     \n",
    "import matplotlib.pyplot as plt          # plotting\n",
    "import numpy as np                       # dense matrices\n",
    "from scipy.sparse import csr_matrix      # sparse matrices\n",
    "import json\n",
    "\n",
    "from sklearn.neighbors import NearestNeighbors\n",
    "from sklearn.metrics.pairwise import euclidean_distances\n",
    "from sklearn.metrics.pairwise import cosine_distances"
   ]
  },
  {
   "cell_type": "markdown",
   "metadata": {},
   "source": [
    "### Loading the data"
   ]
  },
  {
   "cell_type": "code",
   "execution_count": 2,
   "metadata": {},
   "outputs": [],
   "source": [
    "# data of text\n",
    "wiki = pd.read_csv(\"people_wiki.csv\")"
   ]
  },
  {
   "cell_type": "code",
   "execution_count": 3,
   "metadata": {},
   "outputs": [],
   "source": [
    "# word_count_loader\n",
    "def load_sparse_csr(filename):\n",
    "    loader = np.load(filename)\n",
    "    data = loader['data']\n",
    "    indices = loader['indices']\n",
    "    indptr = loader['indptr']\n",
    "    shape = loader['shape']\n",
    "    \n",
    "    return csr_matrix( (data, indices, indptr), shape)\n",
    "\n",
    "\n",
    "\n",
    "word_count = load_sparse_csr('people_wiki_word_count.npz')  ## 59071x547979"
   ]
  },
  {
   "cell_type": "code",
   "execution_count": 4,
   "metadata": {},
   "outputs": [
    {
     "name": "stdout",
     "output_type": "stream",
     "text": [
      "(59071, 3)\n"
     ]
    },
    {
     "data": {
      "text/html": [
       "<div>\n",
       "<style scoped>\n",
       "    .dataframe tbody tr th:only-of-type {\n",
       "        vertical-align: middle;\n",
       "    }\n",
       "\n",
       "    .dataframe tbody tr th {\n",
       "        vertical-align: top;\n",
       "    }\n",
       "\n",
       "    .dataframe thead th {\n",
       "        text-align: right;\n",
       "    }\n",
       "</style>\n",
       "<table border=\"1\" class=\"dataframe\">\n",
       "  <thead>\n",
       "    <tr style=\"text-align: right;\">\n",
       "      <th></th>\n",
       "      <th>URI</th>\n",
       "      <th>name</th>\n",
       "      <th>text</th>\n",
       "    </tr>\n",
       "  </thead>\n",
       "  <tbody>\n",
       "    <tr>\n",
       "      <th>0</th>\n",
       "      <td>&lt;http://dbpedia.org/resource/Digby_Morrell&gt;</td>\n",
       "      <td>Digby Morrell</td>\n",
       "      <td>digby morrell born 10 october 1979 is a former...</td>\n",
       "    </tr>\n",
       "    <tr>\n",
       "      <th>1</th>\n",
       "      <td>&lt;http://dbpedia.org/resource/Alfred_J._Lewy&gt;</td>\n",
       "      <td>Alfred J. Lewy</td>\n",
       "      <td>alfred j lewy aka sandy lewy graduated from un...</td>\n",
       "    </tr>\n",
       "    <tr>\n",
       "      <th>2</th>\n",
       "      <td>&lt;http://dbpedia.org/resource/Harpdog_Brown&gt;</td>\n",
       "      <td>Harpdog Brown</td>\n",
       "      <td>harpdog brown is a singer and harmonica player...</td>\n",
       "    </tr>\n",
       "    <tr>\n",
       "      <th>3</th>\n",
       "      <td>&lt;http://dbpedia.org/resource/Franz_Rottensteiner&gt;</td>\n",
       "      <td>Franz Rottensteiner</td>\n",
       "      <td>franz rottensteiner born in waidmannsfeld lowe...</td>\n",
       "    </tr>\n",
       "    <tr>\n",
       "      <th>4</th>\n",
       "      <td>&lt;http://dbpedia.org/resource/G-Enka&gt;</td>\n",
       "      <td>G-Enka</td>\n",
       "      <td>henry krvits born 30 december 1974 in tallinn ...</td>\n",
       "    </tr>\n",
       "  </tbody>\n",
       "</table>\n",
       "</div>"
      ],
      "text/plain": [
       "                                                 URI                 name  \\\n",
       "0        <http://dbpedia.org/resource/Digby_Morrell>        Digby Morrell   \n",
       "1       <http://dbpedia.org/resource/Alfred_J._Lewy>       Alfred J. Lewy   \n",
       "2        <http://dbpedia.org/resource/Harpdog_Brown>        Harpdog Brown   \n",
       "3  <http://dbpedia.org/resource/Franz_Rottensteiner>  Franz Rottensteiner   \n",
       "4               <http://dbpedia.org/resource/G-Enka>               G-Enka   \n",
       "\n",
       "                                                text  \n",
       "0  digby morrell born 10 october 1979 is a former...  \n",
       "1  alfred j lewy aka sandy lewy graduated from un...  \n",
       "2  harpdog brown is a singer and harmonica player...  \n",
       "3  franz rottensteiner born in waidmannsfeld lowe...  \n",
       "4  henry krvits born 30 december 1974 in tallinn ...  "
      ]
     },
     "execution_count": 4,
     "metadata": {},
     "output_type": "execute_result"
    }
   ],
   "source": [
    "print(wiki.shape)\n",
    "wiki.head()"
   ]
  },
  {
   "cell_type": "code",
   "execution_count": 5,
   "metadata": {},
   "outputs": [
    {
     "name": "stdout",
     "output_type": "stream",
     "text": [
      "<class 'scipy.sparse.csr.csr_matrix'>\n",
      "(59071, 547979)\n"
     ]
    },
    {
     "data": {
      "text/plain": [
       "<59071x547979 sparse matrix of type '<class 'numpy.int64'>'\n",
       "\twith 10379283 stored elements in Compressed Sparse Row format>"
      ]
     },
     "execution_count": 5,
     "metadata": {},
     "output_type": "execute_result"
    }
   ],
   "source": [
    "print(type(word_count))\n",
    "print(word_count.shape)\n",
    "word_count"
   ]
  },
  {
   "cell_type": "code",
   "execution_count": 6,
   "metadata": {},
   "outputs": [],
   "source": [
    "# dict mapping indices to words (associated with sparse matrix above (word_count))\n",
    "with open(\"people_wiki_map_index_to_word.json\") as json_file:\n",
    "    map_index_to_word = json.load(json_file)  # size = 547979\n"
   ]
  },
  {
   "cell_type": "code",
   "execution_count": 7,
   "metadata": {},
   "outputs": [
    {
     "data": {
      "text/plain": [
       "{'biennials': 522004,\n",
       " 'lb915': 116290,\n",
       " 'shatzky': 127647,\n",
       " 'woode': 174106,\n",
       " 'damfunk': 133206}"
      ]
     },
     "execution_count": 7,
     "metadata": {},
     "output_type": "execute_result"
    }
   ],
   "source": [
    "{k: map_index_to_word[k] for k in list(map_index_to_word)[:5]}"
   ]
  },
  {
   "cell_type": "markdown",
   "metadata": {},
   "source": [
    "# Model 1 - Bag of Words"
   ]
  },
  {
   "cell_type": "code",
   "execution_count": 8,
   "metadata": {},
   "outputs": [
    {
     "data": {
      "text/plain": [
       "NearestNeighbors(algorithm='brute', leaf_size=30, metric='euclidean',\n",
       "         metric_params=None, n_jobs=None, n_neighbors=5, p=2, radius=1.0)"
      ]
     },
     "execution_count": 8,
     "metadata": {},
     "output_type": "execute_result"
    }
   ],
   "source": [
    "model = NearestNeighbors(metric='euclidean', algorithm='brute')\n",
    "model.fit(word_count)"
   ]
  },
  {
   "cell_type": "code",
   "execution_count": 9,
   "metadata": {},
   "outputs": [
    {
     "name": "stdout",
     "output_type": "stream",
     "text": [
      "                                              URI          name  \\\n",
      "35817  <http://dbpedia.org/resource/Barack_Obama>  Barack Obama   \n",
      "\n",
      "                                                    text  \n",
      "35817  barack hussein obama ii brk husen bm born augu...  \n"
     ]
    }
   ],
   "source": [
    "print(wiki[wiki['name'] == 'Barack Obama'])"
   ]
  },
  {
   "cell_type": "code",
   "execution_count": 10,
   "metadata": {},
   "outputs": [],
   "source": [
    "distances, indices = model.kneighbors(word_count[35817], n_neighbors=10)"
   ]
  },
  {
   "cell_type": "code",
   "execution_count": 14,
   "metadata": {},
   "outputs": [
    {
     "name": "stdout",
     "output_type": "stream",
     "text": [
      "[[ 0.         33.07567082 34.39476704 36.15245497 36.16628264 36.33180425\n",
      "  36.40054945 36.49657518 36.63331817 36.95943723]]\n",
      "[[35817 24478 28447 35357 14754 13229 31423 22745 36364  9210]]\n"
     ]
    }
   ],
   "source": [
    "print(distances)\n",
    "print(indices)"
   ]
  },
  {
   "cell_type": "code",
   "execution_count": 17,
   "metadata": {},
   "outputs": [
    {
     "name": "stdout",
     "output_type": "stream",
     "text": [
      "                             name   distance\n",
      "35817                Barack Obama   0.000000\n",
      "24478                   Joe Biden  33.075671\n",
      "28447              George W. Bush  34.394767\n",
      "35357            Lawrence Summers  36.152455\n",
      "14754                 Mitt Romney  36.166283\n",
      "13229            Francisco Barrio  36.331804\n",
      "31423              Walter Mondale  36.400549\n",
      "22745  Wynn Normington Hugh-Jones  36.496575\n",
      "36364                  Don Bonker  36.633318\n",
      "9210                 Andy Anstett  36.959437\n"
     ]
    }
   ],
   "source": [
    "neighbors = pd.DataFrame({'distance':distances.flatten(), 'id':indices.flatten()})\n",
    "print(wiki.join(neighbors.set_index('id')).sort_values('distance')[['name','distance']][:10])"
   ]
  },
  {
   "cell_type": "code",
   "execution_count": 18,
   "metadata": {},
   "outputs": [
    {
     "data": {
      "text/html": [
       "<div>\n",
       "<style scoped>\n",
       "    .dataframe tbody tr th:only-of-type {\n",
       "        vertical-align: middle;\n",
       "    }\n",
       "\n",
       "    .dataframe tbody tr th {\n",
       "        vertical-align: top;\n",
       "    }\n",
       "\n",
       "    .dataframe thead th {\n",
       "        text-align: right;\n",
       "    }\n",
       "</style>\n",
       "<table border=\"1\" class=\"dataframe\">\n",
       "  <thead>\n",
       "    <tr style=\"text-align: right;\">\n",
       "      <th></th>\n",
       "      <th>URI</th>\n",
       "      <th>name</th>\n",
       "      <th>text</th>\n",
       "    </tr>\n",
       "  </thead>\n",
       "  <tbody>\n",
       "    <tr>\n",
       "      <th>0</th>\n",
       "      <td>&lt;http://dbpedia.org/resource/Digby_Morrell&gt;</td>\n",
       "      <td>Digby Morrell</td>\n",
       "      <td>digby morrell born 10 october 1979 is a former...</td>\n",
       "    </tr>\n",
       "    <tr>\n",
       "      <th>1</th>\n",
       "      <td>&lt;http://dbpedia.org/resource/Alfred_J._Lewy&gt;</td>\n",
       "      <td>Alfred J. Lewy</td>\n",
       "      <td>alfred j lewy aka sandy lewy graduated from un...</td>\n",
       "    </tr>\n",
       "    <tr>\n",
       "      <th>2</th>\n",
       "      <td>&lt;http://dbpedia.org/resource/Harpdog_Brown&gt;</td>\n",
       "      <td>Harpdog Brown</td>\n",
       "      <td>harpdog brown is a singer and harmonica player...</td>\n",
       "    </tr>\n",
       "    <tr>\n",
       "      <th>3</th>\n",
       "      <td>&lt;http://dbpedia.org/resource/Franz_Rottensteiner&gt;</td>\n",
       "      <td>Franz Rottensteiner</td>\n",
       "      <td>franz rottensteiner born in waidmannsfeld lowe...</td>\n",
       "    </tr>\n",
       "    <tr>\n",
       "      <th>4</th>\n",
       "      <td>&lt;http://dbpedia.org/resource/G-Enka&gt;</td>\n",
       "      <td>G-Enka</td>\n",
       "      <td>henry krvits born 30 december 1974 in tallinn ...</td>\n",
       "    </tr>\n",
       "  </tbody>\n",
       "</table>\n",
       "</div>"
      ],
      "text/plain": [
       "                                                 URI                 name  \\\n",
       "0        <http://dbpedia.org/resource/Digby_Morrell>        Digby Morrell   \n",
       "1       <http://dbpedia.org/resource/Alfred_J._Lewy>       Alfred J. Lewy   \n",
       "2        <http://dbpedia.org/resource/Harpdog_Brown>        Harpdog Brown   \n",
       "3  <http://dbpedia.org/resource/Franz_Rottensteiner>  Franz Rottensteiner   \n",
       "4               <http://dbpedia.org/resource/G-Enka>               G-Enka   \n",
       "\n",
       "                                                text  \n",
       "0  digby morrell born 10 october 1979 is a former...  \n",
       "1  alfred j lewy aka sandy lewy graduated from un...  \n",
       "2  harpdog brown is a singer and harmonica player...  \n",
       "3  franz rottensteiner born in waidmannsfeld lowe...  \n",
       "4  henry krvits born 30 december 1974 in tallinn ...  "
      ]
     },
     "execution_count": 18,
     "metadata": {},
     "output_type": "execute_result"
    }
   ],
   "source": [
    "wiki.head()"
   ]
  },
  {
   "cell_type": "code",
   "execution_count": 19,
   "metadata": {},
   "outputs": [],
   "source": [
    "def unpack_dict(matrix, map_index_to_word):\n",
    "    #table = list(map_index_to_word.sort('index')['category'])\n",
    "    # if you're not using SFrame, replace this line with\n",
    "    table = sorted(map_index_to_word, key=map_index_to_word.get)\n",
    "    \n",
    "    \n",
    "    data = matrix.data\n",
    "    indices = matrix.indices\n",
    "    indptr = matrix.indptr\n",
    "    \n",
    "    num_doc = matrix.shape[0]\n",
    "\n",
    "    return [{k:v for k,v in zip([table[word_id] for word_id in indices[indptr[i]:indptr[i+1]] ],\n",
    "                                 data[indptr[i]:indptr[i+1]].tolist())} \\\n",
    "               for i in range(num_doc) ]\n",
    "\n",
    "wiki['word_count'] = unpack_dict(word_count, map_index_to_word)"
   ]
  },
  {
   "cell_type": "code",
   "execution_count": 20,
   "metadata": {},
   "outputs": [
    {
     "data": {
      "text/html": [
       "<div>\n",
       "<style scoped>\n",
       "    .dataframe tbody tr th:only-of-type {\n",
       "        vertical-align: middle;\n",
       "    }\n",
       "\n",
       "    .dataframe tbody tr th {\n",
       "        vertical-align: top;\n",
       "    }\n",
       "\n",
       "    .dataframe thead th {\n",
       "        text-align: right;\n",
       "    }\n",
       "</style>\n",
       "<table border=\"1\" class=\"dataframe\">\n",
       "  <thead>\n",
       "    <tr style=\"text-align: right;\">\n",
       "      <th></th>\n",
       "      <th>URI</th>\n",
       "      <th>name</th>\n",
       "      <th>text</th>\n",
       "      <th>word_count</th>\n",
       "    </tr>\n",
       "  </thead>\n",
       "  <tbody>\n",
       "    <tr>\n",
       "      <th>0</th>\n",
       "      <td>&lt;http://dbpedia.org/resource/Digby_Morrell&gt;</td>\n",
       "      <td>Digby Morrell</td>\n",
       "      <td>digby morrell born 10 october 1979 is a former...</td>\n",
       "      <td>{'brisbaneafter': 1, 'edflhe': 1, 'aflfrom': 1...</td>\n",
       "    </tr>\n",
       "    <tr>\n",
       "      <th>1</th>\n",
       "      <td>&lt;http://dbpedia.org/resource/Alfred_J._Lewy&gt;</td>\n",
       "      <td>Alfred J. Lewy</td>\n",
       "      <td>alfred j lewy aka sandy lewy graduated from un...</td>\n",
       "      <td>{'maladaptation': 1, 'phasedelay': 1, '25hour'...</td>\n",
       "    </tr>\n",
       "    <tr>\n",
       "      <th>2</th>\n",
       "      <td>&lt;http://dbpedia.org/resource/Harpdog_Brown&gt;</td>\n",
       "      <td>Harpdog Brown</td>\n",
       "      <td>harpdog brown is a singer and harmonica player...</td>\n",
       "      <td>{'germanyover': 1, 'bluesgospel': 1, 'harpdog'...</td>\n",
       "    </tr>\n",
       "    <tr>\n",
       "      <th>3</th>\n",
       "      <td>&lt;http://dbpedia.org/resource/Franz_Rottensteiner&gt;</td>\n",
       "      <td>Franz Rottensteiner</td>\n",
       "      <td>franz rottensteiner born in waidmannsfeld lowe...</td>\n",
       "      <td>{'fantasticrottensteiner': 1, 'waidmannsfeld':...</td>\n",
       "    </tr>\n",
       "    <tr>\n",
       "      <th>4</th>\n",
       "      <td>&lt;http://dbpedia.org/resource/G-Enka&gt;</td>\n",
       "      <td>G-Enka</td>\n",
       "      <td>henry krvits born 30 december 1974 in tallinn ...</td>\n",
       "      <td>{'arhm': 3, 'gangstergenka': 1, 'kuhnja': 1, '...</td>\n",
       "    </tr>\n",
       "  </tbody>\n",
       "</table>\n",
       "</div>"
      ],
      "text/plain": [
       "                                                 URI                 name  \\\n",
       "0        <http://dbpedia.org/resource/Digby_Morrell>        Digby Morrell   \n",
       "1       <http://dbpedia.org/resource/Alfred_J._Lewy>       Alfred J. Lewy   \n",
       "2        <http://dbpedia.org/resource/Harpdog_Brown>        Harpdog Brown   \n",
       "3  <http://dbpedia.org/resource/Franz_Rottensteiner>  Franz Rottensteiner   \n",
       "4               <http://dbpedia.org/resource/G-Enka>               G-Enka   \n",
       "\n",
       "                                                text  \\\n",
       "0  digby morrell born 10 october 1979 is a former...   \n",
       "1  alfred j lewy aka sandy lewy graduated from un...   \n",
       "2  harpdog brown is a singer and harmonica player...   \n",
       "3  franz rottensteiner born in waidmannsfeld lowe...   \n",
       "4  henry krvits born 30 december 1974 in tallinn ...   \n",
       "\n",
       "                                          word_count  \n",
       "0  {'brisbaneafter': 1, 'edflhe': 1, 'aflfrom': 1...  \n",
       "1  {'maladaptation': 1, 'phasedelay': 1, '25hour'...  \n",
       "2  {'germanyover': 1, 'bluesgospel': 1, 'harpdog'...  \n",
       "3  {'fantasticrottensteiner': 1, 'waidmannsfeld':...  \n",
       "4  {'arhm': 3, 'gangstergenka': 1, 'kuhnja': 1, '...  "
      ]
     },
     "execution_count": 20,
     "metadata": {},
     "output_type": "execute_result"
    }
   ],
   "source": [
    "wiki.head()"
   ]
  },
  {
   "cell_type": "code",
   "execution_count": 46,
   "metadata": {},
   "outputs": [],
   "source": [
    "def top_words(name):\n",
    "    \"\"\"\n",
    "    Get a table of the most frequent words in the given person's wikipedia page.\n",
    "    \"\"\"\n",
    "    row = wiki[wiki['name'] == name]\n",
    "    \n",
    "    word_count_table = pd.DataFrame.from_dict(dict(row['word_count']))\n",
    "    word_count_table = word_count_table.reset_index()\n",
    "    word_count_table.columns = ['word', 'count']\n",
    "    return word_count_table.sort_values('count', ascending=False)"
   ]
  },
  {
   "cell_type": "code",
   "execution_count": 47,
   "metadata": {},
   "outputs": [
    {
     "name": "stdout",
     "output_type": "stream",
     "text": [
      "            word  count\n",
      "245          the     40\n",
      "118           in     30\n",
      "31           and     21\n",
      "165           of     18\n",
      "248           to     14\n",
      "109          his     11\n",
      "163        obama      9\n",
      "21           act      8\n",
      "20             a      7\n",
      "107           he      7\n",
      "33            as      6\n",
      "259           us      6\n",
      "136          law      6\n",
      "263          was      5\n",
      "27         after      4\n",
      "77    democratic      4\n",
      "63       control      4\n",
      "126         iraq      4\n",
      "182    president      4\n",
      "94           for      4\n",
      "149     military      4\n",
      "105          has      4\n",
      "268         with      3\n",
      "242         term      3\n",
      "177        party      3\n",
      "93         first      3\n",
      "220       school      3\n",
      "226       signed      3\n",
      "172      ordered      3\n",
      "129      january      3\n",
      "..           ...    ...\n",
      "122  initiatives      1\n",
      "120     included      1\n",
      "78      district      1\n",
      "119  inaugurated      1\n",
      "79     doddfrank      1\n",
      "82          down      1\n",
      "84       earning      1\n",
      "85      economic      1\n",
      "87    elementary      1\n",
      "88         ended      1\n",
      "89        ending      1\n",
      "90      equality      1\n",
      "91       federal      1\n",
      "92         filed      1\n",
      "96          form      1\n",
      "98          full      1\n",
      "99         gains      1\n",
      "100      general      1\n",
      "101     graduate      1\n",
      "102        great      1\n",
      "103          gun      1\n",
      "106       hawaii      1\n",
      "108      hillary      1\n",
      "110         hold      1\n",
      "111     honolulu      1\n",
      "112         hook      1\n",
      "114        husen      1\n",
      "115      hussein      1\n",
      "116           ii      1\n",
      "272        years      1\n",
      "\n",
      "[273 rows x 2 columns]\n"
     ]
    }
   ],
   "source": [
    "obama_words = top_words('Barack Obama')\n",
    "print(obama_words)"
   ]
  },
  {
   "cell_type": "code",
   "execution_count": 48,
   "metadata": {},
   "outputs": [
    {
     "name": "stdout",
     "output_type": "stream",
     "text": [
      "             word  count\n",
      "204           the     36\n",
      "147            of     24\n",
      "23            and     18\n",
      "102            in     17\n",
      "95             he     10\n",
      "206            to      9\n",
      "50      chihuahua      7\n",
      "90       governor      6\n",
      "14              a      6\n",
      "28             as      5\n",
      "99            his      5\n",
      "194         state      4\n",
      "87           from      4\n",
      "214           was      4\n",
      "224         years      3\n",
      "142      national      3\n",
      "17         action      3\n",
      "84         former      3\n",
      "82          first      3\n",
      "155         party      3\n",
      "83            for      3\n",
      "191        served      2\n",
      "70         during      2\n",
      "39       becoming      2\n",
      "40         before      2\n",
      "41           born      2\n",
      "58        control      2\n",
      "46      candidate      2\n",
      "42             by      2\n",
      "149           one      2\n",
      "..            ...    ...\n",
      "120         local      1\n",
      "121          lost      1\n",
      "122          made      1\n",
      "123         mayor      1\n",
      "124     mayorship      1\n",
      "96         headed      1\n",
      "94            has      1\n",
      "93        groupon      1\n",
      "76      expressed      1\n",
      "66      delivered      1\n",
      "67       deputies      1\n",
      "68            did      1\n",
      "69            due      1\n",
      "71        elected      1\n",
      "72      elections      1\n",
      "73            end      1\n",
      "74         ending      1\n",
      "75           ever      1\n",
      "77     favoritism      1\n",
      "92   governorship      1\n",
      "78       february      1\n",
      "79        federal      1\n",
      "80       fernando      1\n",
      "81            few      1\n",
      "85      foxbarrio      1\n",
      "86      francisco      1\n",
      "88           good      1\n",
      "89     governance      1\n",
      "91      governors      1\n",
      "112        javier      1\n",
      "\n",
      "[225 rows x 2 columns]\n"
     ]
    }
   ],
   "source": [
    "barrio_words = top_words('Francisco Barrio')\n",
    "print(barrio_words)"
   ]
  },
  {
   "cell_type": "code",
   "execution_count": 49,
   "metadata": {},
   "outputs": [
    {
     "data": {
      "text/plain": [
       "{'and', 'in', 'of', 'the', 'to'}"
      ]
     },
     "execution_count": 49,
     "metadata": {},
     "output_type": "execute_result"
    }
   ],
   "source": [
    "combined_words =  obama_words.join(barrio_words.set_index('word'), on='word',lsuffix='Obama', rsuffix='Barrio',how='inner')\n",
    "common_words = set(combined_words['word'][:5]) # YOUR CODE HERE\n",
    "common_words"
   ]
  },
  {
   "cell_type": "code",
   "execution_count": 51,
   "metadata": {},
   "outputs": [
    {
     "data": {
      "text/html": [
       "<div>\n",
       "<style scoped>\n",
       "    .dataframe tbody tr th:only-of-type {\n",
       "        vertical-align: middle;\n",
       "    }\n",
       "\n",
       "    .dataframe tbody tr th {\n",
       "        vertical-align: top;\n",
       "    }\n",
       "\n",
       "    .dataframe thead th {\n",
       "        text-align: right;\n",
       "    }\n",
       "</style>\n",
       "<table border=\"1\" class=\"dataframe\">\n",
       "  <thead>\n",
       "    <tr style=\"text-align: right;\">\n",
       "      <th></th>\n",
       "      <th>URI</th>\n",
       "      <th>name</th>\n",
       "      <th>text</th>\n",
       "      <th>word_count</th>\n",
       "      <th>has_top_words</th>\n",
       "    </tr>\n",
       "  </thead>\n",
       "  <tbody>\n",
       "    <tr>\n",
       "      <th>0</th>\n",
       "      <td>&lt;http://dbpedia.org/resource/Digby_Morrell&gt;</td>\n",
       "      <td>Digby Morrell</td>\n",
       "      <td>digby morrell born 10 october 1979 is a former...</td>\n",
       "      <td>{'brisbaneafter': 1, 'edflhe': 1, 'aflfrom': 1...</td>\n",
       "      <td>True</td>\n",
       "    </tr>\n",
       "    <tr>\n",
       "      <th>1</th>\n",
       "      <td>&lt;http://dbpedia.org/resource/Alfred_J._Lewy&gt;</td>\n",
       "      <td>Alfred J. Lewy</td>\n",
       "      <td>alfred j lewy aka sandy lewy graduated from un...</td>\n",
       "      <td>{'maladaptation': 1, 'phasedelay': 1, '25hour'...</td>\n",
       "      <td>True</td>\n",
       "    </tr>\n",
       "    <tr>\n",
       "      <th>2</th>\n",
       "      <td>&lt;http://dbpedia.org/resource/Harpdog_Brown&gt;</td>\n",
       "      <td>Harpdog Brown</td>\n",
       "      <td>harpdog brown is a singer and harmonica player...</td>\n",
       "      <td>{'germanyover': 1, 'bluesgospel': 1, 'harpdog'...</td>\n",
       "      <td>True</td>\n",
       "    </tr>\n",
       "    <tr>\n",
       "      <th>3</th>\n",
       "      <td>&lt;http://dbpedia.org/resource/Franz_Rottensteiner&gt;</td>\n",
       "      <td>Franz Rottensteiner</td>\n",
       "      <td>franz rottensteiner born in waidmannsfeld lowe...</td>\n",
       "      <td>{'fantasticrottensteiner': 1, 'waidmannsfeld':...</td>\n",
       "      <td>True</td>\n",
       "    </tr>\n",
       "    <tr>\n",
       "      <th>4</th>\n",
       "      <td>&lt;http://dbpedia.org/resource/G-Enka&gt;</td>\n",
       "      <td>G-Enka</td>\n",
       "      <td>henry krvits born 30 december 1974 in tallinn ...</td>\n",
       "      <td>{'arhm': 3, 'gangstergenka': 1, 'kuhnja': 1, '...</td>\n",
       "      <td>False</td>\n",
       "    </tr>\n",
       "  </tbody>\n",
       "</table>\n",
       "</div>"
      ],
      "text/plain": [
       "                                                 URI                 name  \\\n",
       "0        <http://dbpedia.org/resource/Digby_Morrell>        Digby Morrell   \n",
       "1       <http://dbpedia.org/resource/Alfred_J._Lewy>       Alfred J. Lewy   \n",
       "2        <http://dbpedia.org/resource/Harpdog_Brown>        Harpdog Brown   \n",
       "3  <http://dbpedia.org/resource/Franz_Rottensteiner>  Franz Rottensteiner   \n",
       "4               <http://dbpedia.org/resource/G-Enka>               G-Enka   \n",
       "\n",
       "                                                text  \\\n",
       "0  digby morrell born 10 october 1979 is a former...   \n",
       "1  alfred j lewy aka sandy lewy graduated from un...   \n",
       "2  harpdog brown is a singer and harmonica player...   \n",
       "3  franz rottensteiner born in waidmannsfeld lowe...   \n",
       "4  henry krvits born 30 december 1974 in tallinn ...   \n",
       "\n",
       "                                          word_count  has_top_words  \n",
       "0  {'brisbaneafter': 1, 'edflhe': 1, 'aflfrom': 1...           True  \n",
       "1  {'maladaptation': 1, 'phasedelay': 1, '25hour'...           True  \n",
       "2  {'germanyover': 1, 'bluesgospel': 1, 'harpdog'...           True  \n",
       "3  {'fantasticrottensteiner': 1, 'waidmannsfeld':...           True  \n",
       "4  {'arhm': 3, 'gangstergenka': 1, 'kuhnja': 1, '...          False  "
      ]
     },
     "execution_count": 51,
     "metadata": {},
     "output_type": "execute_result"
    }
   ],
   "source": [
    "def has_top_words(word_count_vector):\n",
    "    # extract the keys of word_count_vector and convert it to a set\n",
    "    unique_words = set(word_count_vector.keys())   # YOUR CODE HERE\n",
    "    # return True if common_words is a subset of unique_words\n",
    "    # return False otherwise\n",
    "    return common_words.issubset(unique_words) # YOUR CODE HERE\n",
    "\n",
    "wiki['has_top_words'] = wiki['word_count'].apply(has_top_words)\n",
    "\n",
    "wiki.head()"
   ]
  },
  {
   "cell_type": "code",
   "execution_count": 52,
   "metadata": {},
   "outputs": [
    {
     "name": "stdout",
     "output_type": "stream",
     "text": [
      "Output from your function: True\n"
     ]
    }
   ],
   "source": [
    "print('Output from your function:', has_top_words(wiki.iloc[32]['word_count']))"
   ]
  },
  {
   "cell_type": "markdown",
   "metadata": {},
   "source": [
    "Pairwise distance between the Wikipedia pages of Barack Obama, George W. Bush, and Joe Biden."
   ]
  },
  {
   "cell_type": "code",
   "execution_count": 53,
   "metadata": {},
   "outputs": [
    {
     "name": "stdout",
     "output_type": "stream",
     "text": [
      "[[33.07567082]]\n",
      "[[34.39476704]]\n",
      "[[32.75667871]]\n"
     ]
    }
   ],
   "source": [
    "from sklearn.metrics.pairwise import euclidean_distances\n",
    "\n",
    "print(euclidean_distances(word_count[35817], word_count[24478]))  # obama # baiden\n",
    "print(euclidean_distances(word_count[35817], word_count[28447]))  # obama bush\n",
    "print(euclidean_distances(word_count[24478], word_count[28447])) # baiden bush"
   ]
  },
  {
   "cell_type": "markdown",
   "metadata": {},
   "source": [
    "# TF-IDF"
   ]
  },
  {
   "cell_type": "code",
   "execution_count": 54,
   "metadata": {},
   "outputs": [],
   "source": [
    "tf_idf = load_sparse_csr('people_wiki_tf_idf.npz') # 59071x547979"
   ]
  },
  {
   "cell_type": "code",
   "execution_count": 60,
   "metadata": {},
   "outputs": [
    {
     "name": "stdout",
     "output_type": "stream",
     "text": [
      "(59071, 5)\n",
      "(59071, 547979)\n",
      "(59071, 547979)\n"
     ]
    }
   ],
   "source": [
    "print(wiki.shape)\n",
    "print(tf_idf.shape)\n",
    "print(word_count.shape)"
   ]
  },
  {
   "cell_type": "markdown",
   "metadata": {},
   "source": [
    "* word_count eg {'brisbaneafter': 1, 'edflhe': 1, 'aflfrom': 1, '44game': 1, 'mckernan': 1, 'morrell': 5 ...\n",
    "\n",
    "* tf-idf eg {'brisbaneafter': 10.986495389225194, 'edflhe': 10.986495389225194, 'aflfrom': 10.986495389225194, '44game': 9.887883100557085, 'mckernan': 9.600201028105303, 'morrell': 46.88528738395547 ...."
   ]
  },
  {
   "cell_type": "code",
   "execution_count": 61,
   "metadata": {},
   "outputs": [],
   "source": [
    "wiki['tf_idf'] = unpack_dict(tf_idf, map_index_to_word)"
   ]
  },
  {
   "cell_type": "code",
   "execution_count": 62,
   "metadata": {},
   "outputs": [
    {
     "data": {
      "text/html": [
       "<div>\n",
       "<style scoped>\n",
       "    .dataframe tbody tr th:only-of-type {\n",
       "        vertical-align: middle;\n",
       "    }\n",
       "\n",
       "    .dataframe tbody tr th {\n",
       "        vertical-align: top;\n",
       "    }\n",
       "\n",
       "    .dataframe thead th {\n",
       "        text-align: right;\n",
       "    }\n",
       "</style>\n",
       "<table border=\"1\" class=\"dataframe\">\n",
       "  <thead>\n",
       "    <tr style=\"text-align: right;\">\n",
       "      <th></th>\n",
       "      <th>URI</th>\n",
       "      <th>name</th>\n",
       "      <th>text</th>\n",
       "      <th>word_count</th>\n",
       "      <th>has_top_words</th>\n",
       "      <th>tf_idf</th>\n",
       "    </tr>\n",
       "  </thead>\n",
       "  <tbody>\n",
       "    <tr>\n",
       "      <th>0</th>\n",
       "      <td>&lt;http://dbpedia.org/resource/Digby_Morrell&gt;</td>\n",
       "      <td>Digby Morrell</td>\n",
       "      <td>digby morrell born 10 october 1979 is a former...</td>\n",
       "      <td>{'brisbaneafter': 1, 'edflhe': 1, 'aflfrom': 1...</td>\n",
       "      <td>True</td>\n",
       "      <td>{'brisbaneafter': 10.986495389225194, 'edflhe'...</td>\n",
       "    </tr>\n",
       "    <tr>\n",
       "      <th>1</th>\n",
       "      <td>&lt;http://dbpedia.org/resource/Alfred_J._Lewy&gt;</td>\n",
       "      <td>Alfred J. Lewy</td>\n",
       "      <td>alfred j lewy aka sandy lewy graduated from un...</td>\n",
       "      <td>{'maladaptation': 1, 'phasedelay': 1, '25hour'...</td>\n",
       "      <td>True</td>\n",
       "      <td>{'maladaptation': 10.986495389225194, 'phasede...</td>\n",
       "    </tr>\n",
       "    <tr>\n",
       "      <th>2</th>\n",
       "      <td>&lt;http://dbpedia.org/resource/Harpdog_Brown&gt;</td>\n",
       "      <td>Harpdog Brown</td>\n",
       "      <td>harpdog brown is a singer and harmonica player...</td>\n",
       "      <td>{'germanyover': 1, 'bluesgospel': 1, 'harpdog'...</td>\n",
       "      <td>True</td>\n",
       "      <td>{'germanyover': 10.986495389225194, 'bluesgosp...</td>\n",
       "    </tr>\n",
       "    <tr>\n",
       "      <th>3</th>\n",
       "      <td>&lt;http://dbpedia.org/resource/Franz_Rottensteiner&gt;</td>\n",
       "      <td>Franz Rottensteiner</td>\n",
       "      <td>franz rottensteiner born in waidmannsfeld lowe...</td>\n",
       "      <td>{'fantasticrottensteiner': 1, 'waidmannsfeld':...</td>\n",
       "      <td>True</td>\n",
       "      <td>{'fantasticrottensteiner': 10.986495389225194,...</td>\n",
       "    </tr>\n",
       "    <tr>\n",
       "      <th>4</th>\n",
       "      <td>&lt;http://dbpedia.org/resource/G-Enka&gt;</td>\n",
       "      <td>G-Enka</td>\n",
       "      <td>henry krvits born 30 december 1974 in tallinn ...</td>\n",
       "      <td>{'arhm': 3, 'gangstergenka': 1, 'kuhnja': 1, '...</td>\n",
       "      <td>False</td>\n",
       "      <td>{'arhm': 32.95948616767558, 'gangstergenka': 1...</td>\n",
       "    </tr>\n",
       "  </tbody>\n",
       "</table>\n",
       "</div>"
      ],
      "text/plain": [
       "                                                 URI                 name  \\\n",
       "0        <http://dbpedia.org/resource/Digby_Morrell>        Digby Morrell   \n",
       "1       <http://dbpedia.org/resource/Alfred_J._Lewy>       Alfred J. Lewy   \n",
       "2        <http://dbpedia.org/resource/Harpdog_Brown>        Harpdog Brown   \n",
       "3  <http://dbpedia.org/resource/Franz_Rottensteiner>  Franz Rottensteiner   \n",
       "4               <http://dbpedia.org/resource/G-Enka>               G-Enka   \n",
       "\n",
       "                                                text  \\\n",
       "0  digby morrell born 10 october 1979 is a former...   \n",
       "1  alfred j lewy aka sandy lewy graduated from un...   \n",
       "2  harpdog brown is a singer and harmonica player...   \n",
       "3  franz rottensteiner born in waidmannsfeld lowe...   \n",
       "4  henry krvits born 30 december 1974 in tallinn ...   \n",
       "\n",
       "                                          word_count  has_top_words  \\\n",
       "0  {'brisbaneafter': 1, 'edflhe': 1, 'aflfrom': 1...           True   \n",
       "1  {'maladaptation': 1, 'phasedelay': 1, '25hour'...           True   \n",
       "2  {'germanyover': 1, 'bluesgospel': 1, 'harpdog'...           True   \n",
       "3  {'fantasticrottensteiner': 1, 'waidmannsfeld':...           True   \n",
       "4  {'arhm': 3, 'gangstergenka': 1, 'kuhnja': 1, '...          False   \n",
       "\n",
       "                                              tf_idf  \n",
       "0  {'brisbaneafter': 10.986495389225194, 'edflhe'...  \n",
       "1  {'maladaptation': 10.986495389225194, 'phasede...  \n",
       "2  {'germanyover': 10.986495389225194, 'bluesgosp...  \n",
       "3  {'fantasticrottensteiner': 10.986495389225194,...  \n",
       "4  {'arhm': 32.95948616767558, 'gangstergenka': 1...  "
      ]
     },
     "execution_count": 62,
     "metadata": {},
     "output_type": "execute_result"
    }
   ],
   "source": [
    "wiki.head()"
   ]
  },
  {
   "cell_type": "markdown",
   "metadata": {},
   "source": [
    "### Model 2 - TF-IDF with Euclidean similarity function"
   ]
  },
  {
   "cell_type": "code",
   "execution_count": 63,
   "metadata": {},
   "outputs": [
    {
     "data": {
      "text/plain": [
       "NearestNeighbors(algorithm='brute', leaf_size=30, metric='euclidean',\n",
       "         metric_params=None, n_jobs=None, n_neighbors=5, p=2, radius=1.0)"
      ]
     },
     "execution_count": 63,
     "metadata": {},
     "output_type": "execute_result"
    }
   ],
   "source": [
    "model_tf_idf = NearestNeighbors(metric='euclidean', algorithm='brute')\n",
    "model_tf_idf.fit(tf_idf)"
   ]
  },
  {
   "cell_type": "code",
   "execution_count": 64,
   "metadata": {},
   "outputs": [
    {
     "name": "stdout",
     "output_type": "stream",
     "text": [
      "                          name    distance\n",
      "35817             Barack Obama    0.000000\n",
      "7914             Phil Schiliro  106.861014\n",
      "46811            Jeff Sessions  108.871674\n",
      "44681   Jesse Lee (politician)  109.045698\n",
      "38376           Samantha Power  109.108106\n",
      "6507              Bob Menendez  109.781867\n",
      "38714  Eric Stern (politician)  109.957788\n",
      "44825           James A. Guest  110.413889\n",
      "44368     Roland Grossenbacher  110.470609\n",
      "33417            Tulsi Gabbard  110.696998\n"
     ]
    }
   ],
   "source": [
    "distances, indices = model_tf_idf.kneighbors(tf_idf[35817], n_neighbors=10)\n",
    "\n",
    "neighbors = pd.DataFrame({'distance':distances.flatten(), 'id':indices.flatten()})\n",
    "print(wiki.join(neighbors.set_index('id')).sort_values('distance')[['name', 'distance']][:10])"
   ]
  },
  {
   "cell_type": "code",
   "execution_count": 66,
   "metadata": {},
   "outputs": [
    {
     "name": "stdout",
     "output_type": "stream",
     "text": [
      "                word     weight\n",
      "163            obama  43.295653\n",
      "21               act  27.678223\n",
      "126             iraq  17.747379\n",
      "63           control  14.887061\n",
      "136              law  14.722936\n",
      "172          ordered  14.533374\n",
      "149         military  13.115933\n",
      "211         response  12.784385\n",
      "125      involvement  12.784385\n",
      "77        democratic  12.410689\n",
      "259               us  11.591943\n",
      "14         2012obama  10.986495\n",
      "114            husen  10.986495\n",
      "135   laureateduring  10.986495\n",
      "160        normalize  10.293348\n",
      "46               brk  10.293348\n",
      "223           senate  10.164288\n",
      "79         doddfrank   9.887883\n",
      "159          nominee   9.431014\n",
      "25       afghanistan   9.419704\n",
      "242             term   9.319342\n",
      "51          campaign   9.077468\n",
      "164        obamacare   9.040585\n",
      "80          domestic   8.967411\n",
      "192  reauthorization   8.907054\n",
      "204           relief   8.842461\n",
      "190       protection   8.698475\n",
      "201     reinvestment   8.421546\n",
      "81              dont   8.281231\n",
      "86          election   7.712676\n",
      "..               ...        ...\n",
      "40            before   1.496782\n",
      "107               he   1.493580\n",
      "247            three   1.491503\n",
      "8               2007   1.487973\n",
      "176             over   1.487823\n",
      "175            other   1.442401\n",
      "246             then   1.430935\n",
      "270              won   1.383640\n",
      "252              two   1.098883\n",
      "264            where   1.089076\n",
      "272            years   1.075238\n",
      "155              new   0.887153\n",
      "97              from   0.881266\n",
      "266            which   0.767431\n",
      "33                as   0.763017\n",
      "244             that   0.661407\n",
      "248               to   0.657229\n",
      "268             with   0.607406\n",
      "44              born   0.536393\n",
      "35                at   0.430639\n",
      "263              was   0.396829\n",
      "48                by   0.374553\n",
      "168               on   0.368826\n",
      "94               for   0.291450\n",
      "165               of   0.074811\n",
      "127               is   0.055233\n",
      "20                 a   0.039334\n",
      "118               in   0.028962\n",
      "31               and   0.015648\n",
      "245              the   0.004063\n",
      "\n",
      "[273 rows x 2 columns]\n"
     ]
    }
   ],
   "source": [
    "def top_words_tf_idf(name):\n",
    "    row = wiki[wiki['name'] == name]\n",
    "    \n",
    "    word_count_table = pd.DataFrame.from_dict(dict(wiki[wiki['name'] == name]['tf_idf']))\n",
    "    word_count_table = word_count_table.reset_index()\n",
    "    word_count_table.columns = ['word', 'weight']\n",
    "    return word_count_table.sort_values('weight', ascending=False)\n",
    "\n",
    "obama_tf_idf = top_words_tf_idf('Barack Obama')\n",
    "print(obama_tf_idf)\n",
    "\n",
    "schiliro_tf_idf = top_words_tf_idf('Phil Schiliro')"
   ]
  },
  {
   "cell_type": "code",
   "execution_count": 67,
   "metadata": {},
   "outputs": [
    {
     "data": {
      "text/plain": [
       "{'democratic', 'law', 'obama', 'presidential', 'senate'}"
      ]
     },
     "execution_count": 67,
     "metadata": {},
     "output_type": "execute_result"
    }
   ],
   "source": [
    "combined_words =  obama_tf_idf.join(schiliro_tf_idf.set_index('word'), on='word',lsuffix='Obama', rsuffix='Barrio',how='inner')\n",
    "common_words = set(combined_words['word'][:5])\n",
    "common_words"
   ]
  },
  {
   "cell_type": "code",
   "execution_count": 68,
   "metadata": {},
   "outputs": [],
   "source": [
    "def has_top_words(word_count_vector):\n",
    "    # extract the keys of word_count_vector and convert it to a set\n",
    "    unique_words = set(word_count_vector.keys())   # YOUR CODE HERE\n",
    "    # return True if common_words is a subset of unique_words\n",
    "    # return False otherwise\n",
    "    return common_words.issubset(unique_words) # YOUR CODE HERE\n",
    "\n",
    "wiki['has_top_words'] = wiki['word_count'].apply(has_top_words)"
   ]
  },
  {
   "cell_type": "code",
   "execution_count": 69,
   "metadata": {},
   "outputs": [
    {
     "data": {
      "text/html": [
       "<div>\n",
       "<style scoped>\n",
       "    .dataframe tbody tr th:only-of-type {\n",
       "        vertical-align: middle;\n",
       "    }\n",
       "\n",
       "    .dataframe tbody tr th {\n",
       "        vertical-align: top;\n",
       "    }\n",
       "\n",
       "    .dataframe thead th {\n",
       "        text-align: right;\n",
       "    }\n",
       "</style>\n",
       "<table border=\"1\" class=\"dataframe\">\n",
       "  <thead>\n",
       "    <tr style=\"text-align: right;\">\n",
       "      <th></th>\n",
       "      <th>URI</th>\n",
       "      <th>name</th>\n",
       "      <th>text</th>\n",
       "      <th>word_count</th>\n",
       "      <th>has_top_words</th>\n",
       "      <th>tf_idf</th>\n",
       "    </tr>\n",
       "  </thead>\n",
       "  <tbody>\n",
       "    <tr>\n",
       "      <th>0</th>\n",
       "      <td>&lt;http://dbpedia.org/resource/Digby_Morrell&gt;</td>\n",
       "      <td>Digby Morrell</td>\n",
       "      <td>digby morrell born 10 october 1979 is a former...</td>\n",
       "      <td>{'brisbaneafter': 1, 'edflhe': 1, 'aflfrom': 1...</td>\n",
       "      <td>False</td>\n",
       "      <td>{'brisbaneafter': 10.986495389225194, 'edflhe'...</td>\n",
       "    </tr>\n",
       "    <tr>\n",
       "      <th>1</th>\n",
       "      <td>&lt;http://dbpedia.org/resource/Alfred_J._Lewy&gt;</td>\n",
       "      <td>Alfred J. Lewy</td>\n",
       "      <td>alfred j lewy aka sandy lewy graduated from un...</td>\n",
       "      <td>{'maladaptation': 1, 'phasedelay': 1, '25hour'...</td>\n",
       "      <td>False</td>\n",
       "      <td>{'maladaptation': 10.986495389225194, 'phasede...</td>\n",
       "    </tr>\n",
       "    <tr>\n",
       "      <th>2</th>\n",
       "      <td>&lt;http://dbpedia.org/resource/Harpdog_Brown&gt;</td>\n",
       "      <td>Harpdog Brown</td>\n",
       "      <td>harpdog brown is a singer and harmonica player...</td>\n",
       "      <td>{'germanyover': 1, 'bluesgospel': 1, 'harpdog'...</td>\n",
       "      <td>False</td>\n",
       "      <td>{'germanyover': 10.986495389225194, 'bluesgosp...</td>\n",
       "    </tr>\n",
       "    <tr>\n",
       "      <th>3</th>\n",
       "      <td>&lt;http://dbpedia.org/resource/Franz_Rottensteiner&gt;</td>\n",
       "      <td>Franz Rottensteiner</td>\n",
       "      <td>franz rottensteiner born in waidmannsfeld lowe...</td>\n",
       "      <td>{'fantasticrottensteiner': 1, 'waidmannsfeld':...</td>\n",
       "      <td>False</td>\n",
       "      <td>{'fantasticrottensteiner': 10.986495389225194,...</td>\n",
       "    </tr>\n",
       "    <tr>\n",
       "      <th>4</th>\n",
       "      <td>&lt;http://dbpedia.org/resource/G-Enka&gt;</td>\n",
       "      <td>G-Enka</td>\n",
       "      <td>henry krvits born 30 december 1974 in tallinn ...</td>\n",
       "      <td>{'arhm': 3, 'gangstergenka': 1, 'kuhnja': 1, '...</td>\n",
       "      <td>False</td>\n",
       "      <td>{'arhm': 32.95948616767558, 'gangstergenka': 1...</td>\n",
       "    </tr>\n",
       "  </tbody>\n",
       "</table>\n",
       "</div>"
      ],
      "text/plain": [
       "                                                 URI                 name  \\\n",
       "0        <http://dbpedia.org/resource/Digby_Morrell>        Digby Morrell   \n",
       "1       <http://dbpedia.org/resource/Alfred_J._Lewy>       Alfred J. Lewy   \n",
       "2        <http://dbpedia.org/resource/Harpdog_Brown>        Harpdog Brown   \n",
       "3  <http://dbpedia.org/resource/Franz_Rottensteiner>  Franz Rottensteiner   \n",
       "4               <http://dbpedia.org/resource/G-Enka>               G-Enka   \n",
       "\n",
       "                                                text  \\\n",
       "0  digby morrell born 10 october 1979 is a former...   \n",
       "1  alfred j lewy aka sandy lewy graduated from un...   \n",
       "2  harpdog brown is a singer and harmonica player...   \n",
       "3  franz rottensteiner born in waidmannsfeld lowe...   \n",
       "4  henry krvits born 30 december 1974 in tallinn ...   \n",
       "\n",
       "                                          word_count  has_top_words  \\\n",
       "0  {'brisbaneafter': 1, 'edflhe': 1, 'aflfrom': 1...          False   \n",
       "1  {'maladaptation': 1, 'phasedelay': 1, '25hour'...          False   \n",
       "2  {'germanyover': 1, 'bluesgospel': 1, 'harpdog'...          False   \n",
       "3  {'fantasticrottensteiner': 1, 'waidmannsfeld':...          False   \n",
       "4  {'arhm': 3, 'gangstergenka': 1, 'kuhnja': 1, '...          False   \n",
       "\n",
       "                                              tf_idf  \n",
       "0  {'brisbaneafter': 10.986495389225194, 'edflhe'...  \n",
       "1  {'maladaptation': 10.986495389225194, 'phasede...  \n",
       "2  {'germanyover': 10.986495389225194, 'bluesgosp...  \n",
       "3  {'fantasticrottensteiner': 10.986495389225194,...  \n",
       "4  {'arhm': 32.95948616767558, 'gangstergenka': 1...  "
      ]
     },
     "execution_count": 69,
     "metadata": {},
     "output_type": "execute_result"
    }
   ],
   "source": [
    "wiki.head()"
   ]
  },
  {
   "cell_type": "code",
   "execution_count": 70,
   "metadata": {},
   "outputs": [],
   "source": [
    "# Comptue length of all documents\n",
    "def compute_length(row):\n",
    "    return len(row['text'].split(' '))\n",
    "wiki['length'] = wiki.apply(compute_length, axis=1)"
   ]
  },
  {
   "cell_type": "code",
   "execution_count": 71,
   "metadata": {},
   "outputs": [
    {
     "data": {
      "text/html": [
       "<div>\n",
       "<style scoped>\n",
       "    .dataframe tbody tr th:only-of-type {\n",
       "        vertical-align: middle;\n",
       "    }\n",
       "\n",
       "    .dataframe tbody tr th {\n",
       "        vertical-align: top;\n",
       "    }\n",
       "\n",
       "    .dataframe thead th {\n",
       "        text-align: right;\n",
       "    }\n",
       "</style>\n",
       "<table border=\"1\" class=\"dataframe\">\n",
       "  <thead>\n",
       "    <tr style=\"text-align: right;\">\n",
       "      <th></th>\n",
       "      <th>URI</th>\n",
       "      <th>name</th>\n",
       "      <th>text</th>\n",
       "      <th>word_count</th>\n",
       "      <th>has_top_words</th>\n",
       "      <th>tf_idf</th>\n",
       "      <th>length</th>\n",
       "    </tr>\n",
       "  </thead>\n",
       "  <tbody>\n",
       "    <tr>\n",
       "      <th>0</th>\n",
       "      <td>&lt;http://dbpedia.org/resource/Digby_Morrell&gt;</td>\n",
       "      <td>Digby Morrell</td>\n",
       "      <td>digby morrell born 10 october 1979 is a former...</td>\n",
       "      <td>{'brisbaneafter': 1, 'edflhe': 1, 'aflfrom': 1...</td>\n",
       "      <td>False</td>\n",
       "      <td>{'brisbaneafter': 10.986495389225194, 'edflhe'...</td>\n",
       "      <td>251</td>\n",
       "    </tr>\n",
       "    <tr>\n",
       "      <th>1</th>\n",
       "      <td>&lt;http://dbpedia.org/resource/Alfred_J._Lewy&gt;</td>\n",
       "      <td>Alfred J. Lewy</td>\n",
       "      <td>alfred j lewy aka sandy lewy graduated from un...</td>\n",
       "      <td>{'maladaptation': 1, 'phasedelay': 1, '25hour'...</td>\n",
       "      <td>False</td>\n",
       "      <td>{'maladaptation': 10.986495389225194, 'phasede...</td>\n",
       "      <td>223</td>\n",
       "    </tr>\n",
       "    <tr>\n",
       "      <th>2</th>\n",
       "      <td>&lt;http://dbpedia.org/resource/Harpdog_Brown&gt;</td>\n",
       "      <td>Harpdog Brown</td>\n",
       "      <td>harpdog brown is a singer and harmonica player...</td>\n",
       "      <td>{'germanyover': 1, 'bluesgospel': 1, 'harpdog'...</td>\n",
       "      <td>False</td>\n",
       "      <td>{'germanyover': 10.986495389225194, 'bluesgosp...</td>\n",
       "      <td>226</td>\n",
       "    </tr>\n",
       "    <tr>\n",
       "      <th>3</th>\n",
       "      <td>&lt;http://dbpedia.org/resource/Franz_Rottensteiner&gt;</td>\n",
       "      <td>Franz Rottensteiner</td>\n",
       "      <td>franz rottensteiner born in waidmannsfeld lowe...</td>\n",
       "      <td>{'fantasticrottensteiner': 1, 'waidmannsfeld':...</td>\n",
       "      <td>False</td>\n",
       "      <td>{'fantasticrottensteiner': 10.986495389225194,...</td>\n",
       "      <td>377</td>\n",
       "    </tr>\n",
       "    <tr>\n",
       "      <th>4</th>\n",
       "      <td>&lt;http://dbpedia.org/resource/G-Enka&gt;</td>\n",
       "      <td>G-Enka</td>\n",
       "      <td>henry krvits born 30 december 1974 in tallinn ...</td>\n",
       "      <td>{'arhm': 3, 'gangstergenka': 1, 'kuhnja': 1, '...</td>\n",
       "      <td>False</td>\n",
       "      <td>{'arhm': 32.95948616767558, 'gangstergenka': 1...</td>\n",
       "      <td>201</td>\n",
       "    </tr>\n",
       "  </tbody>\n",
       "</table>\n",
       "</div>"
      ],
      "text/plain": [
       "                                                 URI                 name  \\\n",
       "0        <http://dbpedia.org/resource/Digby_Morrell>        Digby Morrell   \n",
       "1       <http://dbpedia.org/resource/Alfred_J._Lewy>       Alfred J. Lewy   \n",
       "2        <http://dbpedia.org/resource/Harpdog_Brown>        Harpdog Brown   \n",
       "3  <http://dbpedia.org/resource/Franz_Rottensteiner>  Franz Rottensteiner   \n",
       "4               <http://dbpedia.org/resource/G-Enka>               G-Enka   \n",
       "\n",
       "                                                text  \\\n",
       "0  digby morrell born 10 october 1979 is a former...   \n",
       "1  alfred j lewy aka sandy lewy graduated from un...   \n",
       "2  harpdog brown is a singer and harmonica player...   \n",
       "3  franz rottensteiner born in waidmannsfeld lowe...   \n",
       "4  henry krvits born 30 december 1974 in tallinn ...   \n",
       "\n",
       "                                          word_count  has_top_words  \\\n",
       "0  {'brisbaneafter': 1, 'edflhe': 1, 'aflfrom': 1...          False   \n",
       "1  {'maladaptation': 1, 'phasedelay': 1, '25hour'...          False   \n",
       "2  {'germanyover': 1, 'bluesgospel': 1, 'harpdog'...          False   \n",
       "3  {'fantasticrottensteiner': 1, 'waidmannsfeld':...          False   \n",
       "4  {'arhm': 3, 'gangstergenka': 1, 'kuhnja': 1, '...          False   \n",
       "\n",
       "                                              tf_idf  length  \n",
       "0  {'brisbaneafter': 10.986495389225194, 'edflhe'...     251  \n",
       "1  {'maladaptation': 10.986495389225194, 'phasede...     223  \n",
       "2  {'germanyover': 10.986495389225194, 'bluesgosp...     226  \n",
       "3  {'fantasticrottensteiner': 10.986495389225194,...     377  \n",
       "4  {'arhm': 32.95948616767558, 'gangstergenka': 1...     201  "
      ]
     },
     "execution_count": 71,
     "metadata": {},
     "output_type": "execute_result"
    }
   ],
   "source": [
    "wiki.head()"
   ]
  },
  {
   "cell_type": "code",
   "execution_count": 72,
   "metadata": {},
   "outputs": [
    {
     "name": "stdout",
     "output_type": "stream",
     "text": [
      "                          name  length    distance\n",
      "35817             Barack Obama     540    0.000000\n",
      "7914             Phil Schiliro     208  106.861014\n",
      "46811            Jeff Sessions     230  108.871674\n",
      "44681   Jesse Lee (politician)     216  109.045698\n",
      "38376           Samantha Power     310  109.108106\n",
      "6507              Bob Menendez     220  109.781867\n",
      "38714  Eric Stern (politician)     255  109.957788\n",
      "44825           James A. Guest     215  110.413889\n",
      "44368     Roland Grossenbacher     201  110.470609\n",
      "33417            Tulsi Gabbard     228  110.696998\n"
     ]
    }
   ],
   "source": [
    "# Compute 100 nearest neighbors and display their lengths\n",
    "distances, indices = model_tf_idf.kneighbors(tf_idf[35817], n_neighbors=100)\n",
    "neighbors = pd.DataFrame({'distance':distances.flatten(), 'id':indices.flatten()})\n",
    "nearest_neighbors_euclidean = wiki.join(neighbors.set_index('id'), how = 'inner')[['name', 'length', 'distance']].sort_values('distance')\n",
    "print(nearest_neighbors_euclidean[:10])"
   ]
  },
  {
   "cell_type": "code",
   "execution_count": 73,
   "metadata": {},
   "outputs": [
    {
     "name": "stderr",
     "output_type": "stream",
     "text": [
      "C:\\Users\\abido\\Anaconda3\\lib\\site-packages\\matplotlib\\axes\\_axes.py:6462: UserWarning: The 'normed' kwarg is deprecated, and has been replaced by the 'density' kwarg.\n",
      "  warnings.warn(\"The 'normed' kwarg is deprecated, and has been \"\n"
     ]
    },
    {
     "data": {
      "image/png": "[encoded data removed]",
      "text/plain": [
       "<Figure size 756x324 with 1 Axes>"
      ]
     },
     "metadata": {},
     "output_type": "display_data"
    }
   ],
   "source": [
    "plt.figure(figsize=(10.5,4.5))\n",
    "plt.hist(wiki['length'], 50, color='k', edgecolor='None', histtype='stepfilled', density=True,\n",
    "         label='Entire Wikipedia', zorder=3, alpha=0.8)\n",
    "plt.hist(nearest_neighbors_euclidean['length'], 50, color='r', edgecolor='None', histtype='stepfilled', normed=True,\n",
    "         label='100 NNs of Obama (Euclidean)', zorder=10, alpha=0.8)\n",
    "plt.axvline(x=wiki['length'][wiki['name'] == 'Barack Obama'].iloc[0], color='k', linestyle='--', linewidth=4,\n",
    "           label='Length of Barack Obama', zorder=2)\n",
    "plt.axvline(x=wiki['length'][wiki['name'] == 'Joe Biden'].iloc[0], color='g', linestyle='--', linewidth=4,\n",
    "           label='Length of Joe Biden', zorder=1)\n",
    "plt.axis([0, 1000, 0, 0.04])\n",
    "\n",
    "plt.legend(loc='best', prop={'size':15})\n",
    "plt.title('Distribution of document length')\n",
    "plt.xlabel('# of words')\n",
    "plt.ylabel('Percentage')\n",
    "plt.rcParams.update({'font.size':16})\n",
    "plt.tight_layout()"
   ]
  },
  {
   "cell_type": "markdown",
   "metadata": {},
   "source": [
    "### Model 3 -  TF IDF with Cosine Similarity"
   ]
  },
  {
   "cell_type": "code",
   "execution_count": 74,
   "metadata": {},
   "outputs": [
    {
     "name": "stdout",
     "output_type": "stream",
     "text": [
      "                          name  length  distance\n",
      "35817             Barack Obama     540  0.000000\n",
      "24478                Joe Biden     414  0.703139\n",
      "38376           Samantha Power     310  0.742982\n",
      "57108   Hillary Rodham Clinton     580  0.758358\n",
      "38714  Eric Stern (politician)     255  0.770561\n",
      "46140             Robert Gibbs     257  0.784678\n",
      "6796               Eric Holder     232  0.788039\n",
      "44681   Jesse Lee (politician)     216  0.790926\n",
      "18827             Henry Waxman     279  0.798323\n",
      "2412           Joe the Plumber     217  0.799466\n"
     ]
    }
   ],
   "source": [
    "model2_tf_idf = NearestNeighbors(algorithm='brute', metric='cosine')\n",
    "model2_tf_idf.fit(tf_idf)\n",
    "distances, indices = model2_tf_idf.kneighbors(tf_idf[35817], n_neighbors=100)\n",
    "neighbors = pd.DataFrame({'distance':distances.flatten(), 'id':indices.flatten()})\n",
    "nearest_neighbors_cosine = wiki.join(neighbors.set_index('id'))[['name', 'length', 'distance']].sort_values('distance')\n",
    "print(nearest_neighbors_cosine[:10])"
   ]
  },
  {
   "cell_type": "code",
   "execution_count": 75,
   "metadata": {},
   "outputs": [
    {
     "data": {
      "text/plain": [
       "<Figure size 756x324 with 0 Axes>"
      ]
     },
     "metadata": {},
     "output_type": "display_data"
    },
    {
     "data": {
      "image/png": "[encoded data removed]",
      "text/plain": [
       "<Figure size 756x324 with 1 Axes>"
      ]
     },
     "metadata": {},
     "output_type": "display_data"
    }
   ],
   "source": [
    "plt.figure(figsize=(10.5,4.5))\n",
    "plt.figure(figsize=(10.5,4.5))\n",
    "plt.hist(wiki['length'], 50, color='k', edgecolor='None', histtype='stepfilled', density=True,\n",
    "         label='Entire Wikipedia', zorder=3, alpha=0.8)\n",
    "plt.hist(nearest_neighbors_euclidean['length'], 50, color='r', edgecolor='None', histtype='stepfilled', density=True,\n",
    "         label='100 NNs of Obama (Euclidean)', zorder=10, alpha=0.8)\n",
    "plt.hist(nearest_neighbors_cosine['length'], 50, color='b', edgecolor='None', histtype='stepfilled', density=True,\n",
    "         label='100 NNs of Obama (cosine)', zorder=11, alpha=0.8)\n",
    "plt.axvline(x=wiki['length'][wiki['name'] == 'Barack Obama'].iloc[0], color='k', linestyle='--', linewidth=4,\n",
    "           label='Length of Barack Obama', zorder=2)\n",
    "plt.axvline(x=wiki['length'][wiki['name'] == 'Joe Biden'].iloc[0], color='g', linestyle='--', linewidth=4,\n",
    "           label='Length of Joe Biden', zorder=1)\n",
    "plt.axis([0, 1000, 0, 0.04])\n",
    "plt.legend(loc='best', prop={'size':15})\n",
    "plt.title('Distribution of document length')\n",
    "plt.xlabel('# of words')\n",
    "plt.ylabel('Percentage')\n",
    "plt.rcParams.update({'font.size': 16})\n",
    "plt.tight_layout()"
   ]
  },
  {
   "cell_type": "code",
   "execution_count": 76,
   "metadata": {},
   "outputs": [
    {
     "data": {
      "text/html": [
       "<div>\n",
       "<style scoped>\n",
       "    .dataframe tbody tr th:only-of-type {\n",
       "        vertical-align: middle;\n",
       "    }\n",
       "\n",
       "    .dataframe tbody tr th {\n",
       "        vertical-align: top;\n",
       "    }\n",
       "\n",
       "    .dataframe thead th {\n",
       "        text-align: right;\n",
       "    }\n",
       "</style>\n",
       "<table border=\"1\" class=\"dataframe\">\n",
       "  <thead>\n",
       "    <tr style=\"text-align: right;\">\n",
       "      <th></th>\n",
       "      <th>category</th>\n",
       "      <th>index</th>\n",
       "    </tr>\n",
       "  </thead>\n",
       "  <tbody>\n",
       "    <tr>\n",
       "      <th>0</th>\n",
       "      <td>biennials</td>\n",
       "      <td>522004</td>\n",
       "    </tr>\n",
       "    <tr>\n",
       "      <th>1</th>\n",
       "      <td>lb915</td>\n",
       "      <td>116290</td>\n",
       "    </tr>\n",
       "    <tr>\n",
       "      <th>2</th>\n",
       "      <td>shatzky</td>\n",
       "      <td>127647</td>\n",
       "    </tr>\n",
       "    <tr>\n",
       "      <th>3</th>\n",
       "      <td>woode</td>\n",
       "      <td>174106</td>\n",
       "    </tr>\n",
       "    <tr>\n",
       "      <th>4</th>\n",
       "      <td>damfunk</td>\n",
       "      <td>133206</td>\n",
       "    </tr>\n",
       "  </tbody>\n",
       "</table>\n",
       "</div>"
      ],
      "text/plain": [
       "    category   index\n",
       "0  biennials  522004\n",
       "1      lb915  116290\n",
       "2    shatzky  127647\n",
       "3      woode  174106\n",
       "4    damfunk  133206"
      ]
     },
     "execution_count": 76,
     "metadata": {},
     "output_type": "execute_result"
    }
   ],
   "source": [
    "tweet = {'act': 3.4597778278724887,\n",
    " 'control': 3.721765211295327,\n",
    " 'democratic': 3.1026721743330414,\n",
    " 'governments': 4.167571323949673,\n",
    " 'in': 0.0009654063501214492,\n",
    " 'law': 2.4538226269605703,\n",
    " 'popular': 2.764478952022998,\n",
    " 'response': 4.261461747058352,\n",
    " 'to': 0.04694493768179923}\n",
    "\n",
    "\n",
    "df_map_index_to_word = pd.DataFrame(list(map_index_to_word.items()), columns = ['category', 'index'])\n",
    "df_map_index_to_word.head()"
   ]
  },
  {
   "cell_type": "code",
   "execution_count": 78,
   "metadata": {},
   "outputs": [
    {
     "name": "stdout",
     "output_type": "stream",
     "text": [
      "(1, 547979)\n"
     ]
    }
   ],
   "source": [
    "word_indices = [df_map_index_to_word[df_map_index_to_word['category']==word].iloc[0]['index'] for word in tweet.keys()]\n",
    "tweet_tf_idf = csr_matrix( (list(tweet.values()), ([0]*len(word_indices), word_indices)),\n",
    "                          shape=(1, tf_idf.shape[1]) )  # size = 1x547979\n",
    "print(tweet_tf_idf.shape)"
   ]
  },
  {
   "cell_type": "code",
   "execution_count": 85,
   "metadata": {},
   "outputs": [
    {
     "name": "stdout",
     "output_type": "stream",
     "text": [
      "[[0.70591838]]\n"
     ]
    }
   ],
   "source": [
    "obama_tf_idf = tf_idf[35817]\n",
    "print(cosine_distances(obama_tf_idf, tweet_tf_idf))"
   ]
  },
  {
   "cell_type": "code",
   "execution_count": 86,
   "metadata": {},
   "outputs": [
    {
     "name": "stdout",
     "output_type": "stream",
     "text": [
      "[[0.         0.70313868 0.7429819  0.7583584  0.77056123 0.7846775\n",
      "  0.78803907 0.79092642 0.7983226  0.79946636]]\n"
     ]
    }
   ],
   "source": [
    "distances, indices = model2_tf_idf.kneighbors(obama_tf_idf, n_neighbors=10)\n",
    "print(distances)\n"
   ]
  }
 ],
 "metadata": {
  "kernelspec": {
   "display_name": "Python 3",
   "language": "python",
   "name": "python3"
  },
  "language_info": {
   "codemirror_mode": {
    "name": "ipython",
    "version": 3
   },
   "file_extension": ".py",
   "mimetype": "text/x-python",
   "name": "python",
   "nbconvert_exporter": "python",
   "pygments_lexer": "ipython3",
   "version": "3.6.5"
  }
 },
 "nbformat": 4,
 "nbformat_minor": 2
}
